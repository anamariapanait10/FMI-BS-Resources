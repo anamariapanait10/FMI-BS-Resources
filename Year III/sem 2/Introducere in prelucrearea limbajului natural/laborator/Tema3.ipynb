{
  "nbformat": 4,
  "nbformat_minor": 0,
  "metadata": {
    "colab": {
      "provenance": []
    },
    "kernelspec": {
      "name": "python3",
      "display_name": "Python 3"
    },
    "language_info": {
      "name": "python"
    }
  },
  "cells": [
    {
      "cell_type": "markdown",
      "source": [
        "Exercitiul 1 - Scrie propria implementare de Bag of Words de la zero. Ar trebui să furnizeze atât reprezentări binare, cât și reprezentări pentru numărul de apariții."
      ],
      "metadata": {
        "id": "TxqSvnTlmNS2"
      }
    },
    {
      "cell_type": "code",
      "source": [
        "from collections import Counter\n",
        "\n",
        "def create_vocabulary(documents):\n",
        "    vocabulary = set()\n",
        "    for document in documents:\n",
        "        words = document.split()\n",
        "        vocabulary.update(words)\n",
        "    return sorted(list(vocabulary))\n",
        "\n",
        "def vectorize_binary(document, vocabulary):\n",
        "    words = set(document.split())\n",
        "    return [1 if word in words else 0 for word in vocabulary]\n",
        "\n",
        "def vectorize_frequency(document, vocabulary):\n",
        "    word_count = Counter(document.split())\n",
        "    return [word_count[word] if word in word_count else 0 for word in vocabulary]\n",
        "\n",
        "documents = [\n",
        "    \"pisica doarme pe covor\",\n",
        "    \"câinele aleargă în grădină\",\n",
        "    \"pisica joacă și câinele doarme\"\n",
        "]\n",
        "\n",
        "vocabulary = create_vocabulary(documents)\n",
        "\n",
        "vectors_binary = [vectorize_binary(doc, vocabulary) for doc in documents]\n",
        "vectors_frequency = [vectorize_frequency(doc, vocabulary) for doc in documents]\n",
        "\n",
        "(vocabulary, vectors_binary, vectors_frequency)\n"
      ],
      "metadata": {
        "colab": {
          "base_uri": "https://localhost:8080/"
        },
        "id": "tyYftC78pBj0",
        "outputId": "af572238-0f41-4542-b2ee-8f47063c74f3"
      },
      "execution_count": null,
      "outputs": [
        {
          "output_type": "execute_result",
          "data": {
            "text/plain": [
              "(['aleargă',\n",
              "  'covor',\n",
              "  'câinele',\n",
              "  'doarme',\n",
              "  'grădină',\n",
              "  'joacă',\n",
              "  'pe',\n",
              "  'pisica',\n",
              "  'în',\n",
              "  'și'],\n",
              " [[0, 1, 0, 1, 0, 0, 1, 1, 0, 0],\n",
              "  [1, 0, 1, 0, 1, 0, 0, 0, 1, 0],\n",
              "  [0, 0, 1, 1, 0, 1, 0, 1, 0, 1]],\n",
              " [[0, 1, 0, 1, 0, 0, 1, 1, 0, 0],\n",
              "  [1, 0, 1, 0, 1, 0, 0, 0, 1, 0],\n",
              "  [0, 0, 1, 1, 0, 1, 0, 1, 0, 1]])"
            ]
          },
          "metadata": {},
          "execution_count": 11
        }
      ]
    },
    {
      "cell_type": "markdown",
      "source": [
        "Exercitiul 2 - Implementează Tf-Idf de la zero. Definește oricâte funcții ajutătoare crezi necesare."
      ],
      "metadata": {
        "id": "em-eiY0P-nUT"
      }
    },
    {
      "cell_type": "code",
      "source": [
        "import math\n",
        "from collections import Counter\n",
        "\n",
        "docs =  [\n",
        "    \"Pisica neagră se plimbă lin pe covorul roșu în lumina lunii.\",\n",
        "    \"Câinele fidel așteaptă răbdător lângă ușa din față, ascultând sunetele nopții.\",\n",
        "    \"Soarele răsare peste oraș, aducând lumină și căldură într-o nouă zi.\",\n",
        "    \"Programatorul scrie cod în liniște, cu cafeaua aburindă lângă tastatură.\",\n",
        "    \"Artistul pictează un peisaj de toamnă, cu nuanțe vibrante de portocaliu și roșu.\",\n",
        "    \"Pisica și câinele stau împreună pe prag, privind curioși spre stradă.\",\n",
        "    \"Copiii joacă fotbal în parc, râzând și alergând sub soarele amiezii.\",\n",
        "    \"În grădină, albinele zboară de la o floare la alta, polenizând plantele.\",\n",
        "    \"Astronomul studiază stelele, înregistrând date și observații într-un jurnal vechi.\",\n",
        "    \"Chef-ul pregătește un desert sofisticat, combinând ingrediente exotice cu tehnică rafinată.\"\n",
        "]\n",
        "\n",
        "def compute_tf(text):\n",
        "    tf_text = Counter(text.split())\n",
        "    for i in tf_text:\n",
        "        tf_text[i] = tf_text[i] / float(len(text.split()))\n",
        "    return tf_text\n",
        "\n",
        "def compute_idf(word, docs):\n",
        "    return math.log(len(docs) / sum([1.0 for d in docs if word in d]))\n",
        "\n",
        "def compute_tfidf(docs):\n",
        "    documents_list = []\n",
        "    idf_values = {}\n",
        "\n",
        "    all_words = set([word for doc in docs for word in doc.split()])\n",
        "    for word in all_words:\n",
        "        idf_values[word] = compute_idf(word, docs)\n",
        "\n",
        "    for doc in docs:\n",
        "        tf = compute_tf(doc)\n",
        "        tfidf = {}\n",
        "        for word, val in tf.items():\n",
        "            tfidf[word] = val * idf_values[word]\n",
        "        documents_list.append(tfidf)\n",
        "\n",
        "    return documents_list\n",
        "\n",
        "tfidf_scores = compute_tfidf(docs)\n",
        "for doc_index, tfidf_scores in enumerate(tfidf_scores):\n",
        "    print(f\"Document {doc_index + 1}: {tfidf_scores}\")\n"
      ],
      "metadata": {
        "colab": {
          "base_uri": "https://localhost:8080/"
        },
        "id": "NCSUz1wJoenC",
        "outputId": "83a6c59d-2b5c-4fea-fc1e-eb13600dbaf7"
      },
      "execution_count": null,
      "outputs": [
        {
          "output_type": "stream",
          "name": "stdout",
          "text": [
            "Document 1: {'Pisica': 0.14631253749400913, 'neagră': 0.20932591754491328, 'se': 0.10945207312053964, 'plimbă': 0.20932591754491328, 'lin': 0.14631253749400913, 'pe': 0.08329915744310501, 'covorul': 0.20932591754491328, 'roșu': 0.14631253749400913, 'în': 0.06301338005090412, 'lumina': 0.20932591754491328, 'lunii.': 0.20932591754491328}\n",
            "Document 2: {'Câinele': 0.20932591754491328, 'fidel': 0.20932591754491328, 'așteaptă': 0.20932591754491328, 'răbdător': 0.20932591754491328, 'lângă': 0.14631253749400913, 'ușa': 0.20932591754491328, 'din': 0.14631253749400913, 'față,': 0.20932591754491328, 'ascultând': 0.20932591754491328, 'sunetele': 0.20932591754491328, 'nopții.': 0.20932591754491328}\n",
            "Document 3: {'Soarele': 0.20932591754491328, 'răsare': 0.20932591754491328, 'peste': 0.20932591754491328, 'oraș,': 0.20932591754491328, 'aducând': 0.20932591754491328, 'lumină': 0.20932591754491328, 'și': 0.06301338005090412, 'căldură': 0.20932591754491328, 'într-o': 0.20932591754491328, 'nouă': 0.20932591754491328, 'zi.': 0.20932591754491328}\n",
            "Document 4: {'Programatorul': 0.2302585092994046, 'scrie': 0.2302585092994046, 'cod': 0.2302585092994046, 'în': 0.06931471805599453, 'liniște,': 0.2302585092994046, 'cu': 0.06931471805599453, 'cafeaua': 0.2302585092994046, 'aburindă': 0.2302585092994046, 'lângă': 0.16094379124341004, 'tastatură.': 0.2302585092994046}\n",
            "Document 5: {'Artistul': 0.17712193023031123, 'pictează': 0.17712193023031123, 'un': 0.03929427875123006, 'peisaj': 0.17712193023031123, 'de': 0.1409678049037162, 'toamnă,': 0.17712193023031123, 'cu': 0.053319013889226566, 'nuanțe': 0.17712193023031123, 'vibrante': 0.17712193023031123, 'portocaliu': 0.17712193023031123, 'și': 0.053319013889226566, 'roșu.': 0.17712193023031123}\n",
            "Document 6: {'Pisica': 0.14631253749400913, 'și': 0.06301338005090412, 'câinele': 0.20932591754491328, 'stau': 0.20932591754491328, 'împreună': 0.20932591754491328, 'pe': 0.08329915744310501, 'prag,': 0.20932591754491328, 'privind': 0.20932591754491328, 'curioși': 0.20932591754491328, 'spre': 0.20932591754491328, 'stradă.': 0.20932591754491328}\n",
            "Document 7: {'Copiii': 0.20932591754491328, 'joacă': 0.20932591754491328, 'fotbal': 0.20932591754491328, 'în': 0.06301338005090412, 'parc,': 0.20932591754491328, 'râzând': 0.20932591754491328, 'și': 0.06301338005090412, 'alergând': 0.20932591754491328, 'sub': 0.20932591754491328, 'soarele': 0.20932591754491328, 'amiezii.': 0.20932591754491328}\n",
            "Document 8: {'În': 0.19188209108283716, 'grădină,': 0.19188209108283716, 'albinele': 0.19188209108283716, 'zboară': 0.19188209108283716, 'de': 0.07635756098951292, 'la': 0.3837641821656743, 'o': 0.0, 'floare': 0.19188209108283716, 'alta,': 0.19188209108283716, 'polenizând': 0.19188209108283716, 'plantele.': 0.19188209108283716}\n",
            "Document 9: {'Astronomul': 0.2302585092994046, 'studiază': 0.2302585092994046, 'stelele,': 0.2302585092994046, 'înregistrând': 0.2302585092994046, 'date': 0.2302585092994046, 'și': 0.06931471805599453, 'observații': 0.2302585092994046, 'într-un': 0.2302585092994046, 'jurnal': 0.2302585092994046, 'vechi.': 0.2302585092994046}\n",
            "Document 10: {'Chef-ul': 0.20932591754491328, 'pregătește': 0.20932591754491328, 'un': 0.04643869306963552, 'desert': 0.20932591754491328, 'sofisticat,': 0.20932591754491328, 'combinând': 0.20932591754491328, 'ingrediente': 0.20932591754491328, 'exotice': 0.20932591754491328, 'cu': 0.06301338005090412, 'tehnică': 0.20932591754491328, 'rafinată.': 0.20932591754491328}\n"
          ]
        }
      ]
    },
    {
      "cell_type": "markdown",
      "source": [
        "Exercitul 3 - Vezi distanța dintre niște cuvinte în 2D folosind PCA (sau altă modalitate de reducere a dimensionalității)."
      ],
      "metadata": {
        "id": "KqmDOs8C-t4G"
      }
    },
    {
      "cell_type": "code",
      "source": [
        "import spacy\n",
        "import numpy as np\n",
        "from sklearn.decomposition import PCA\n",
        "import matplotlib.pyplot as plt\n",
        "\n",
        "nlp = spacy.load(\"en_core_web_md\")\n",
        "\n",
        "words = [\"dog\", \"cat\", \"fish\", \"bird\", \"tiger\", \"lion\", \"banana\", \"apple\", \"orange\", \"carrot\", \"computer\", \"phone\", \"book\", \"paper\"]\n",
        "\n",
        "word_vectors = np.array([nlp(word).vector for word in words])\n",
        "\n",
        "pca = PCA(n_components=2)\n",
        "word_vectors_2d = pca.fit_transform(word_vectors)\n",
        "\n",
        "# Vizualizăm cuvintele în 2D\n",
        "plt.figure(figsize=(10, 8))\n",
        "plt.scatter(word_vectors_2d[:, 0], word_vectors_2d[:, 1])\n",
        "\n",
        "# Adăugăm etichete pentru fiecare punct\n",
        "for i, word in enumerate(words):\n",
        "    plt.text(word_vectors_2d[i, 0], word_vectors_2d[i, 1], word)\n",
        "\n",
        "plt.xlabel(\"PCA 1\")\n",
        "plt.ylabel(\"PCA 2\")\n",
        "plt.title(\"Vizualizarea cuvintelor în 2D folosind PCA\")\n",
        "plt.show()"
      ],
      "metadata": {
        "id": "uNJQeC-E-wPm"
      },
      "execution_count": null,
      "outputs": []
    },
    {
      "cell_type": "markdown",
      "source": [
        "Exercitul 5 - Vizualizați distanțele dintre câteva cuvinte în 2D folosind PCA (sau alte tehnici de reducere a numărului de dimensiuni)."
      ],
      "metadata": {
        "id": "1AdcPVb9n2VF"
      }
    },
    {
      "cell_type": "code",
      "source": [
        "!pip install spacy\n",
        "!pip install scikit-learn\n",
        "!python -m spacy download en_core_web_md"
      ],
      "metadata": {
        "colab": {
          "base_uri": "https://localhost:8080/"
        },
        "id": "HhX5I9vTpKaw",
        "outputId": "c47c97f3-3be5-4936-ae14-3a9bc5e94898"
      },
      "execution_count": null,
      "outputs": [
        {
          "output_type": "stream",
          "name": "stdout",
          "text": [
            "Requirement already satisfied: spacy in /usr/local/lib/python3.10/dist-packages (3.7.4)\n",
            "Requirement already satisfied: spacy-legacy<3.1.0,>=3.0.11 in /usr/local/lib/python3.10/dist-packages (from spacy) (3.0.12)\n",
            "Requirement already satisfied: spacy-loggers<2.0.0,>=1.0.0 in /usr/local/lib/python3.10/dist-packages (from spacy) (1.0.5)\n",
            "Requirement already satisfied: murmurhash<1.1.0,>=0.28.0 in /usr/local/lib/python3.10/dist-packages (from spacy) (1.0.10)\n",
            "Requirement already satisfied: cymem<2.1.0,>=2.0.2 in /usr/local/lib/python3.10/dist-packages (from spacy) (2.0.8)\n",
            "Requirement already satisfied: preshed<3.1.0,>=3.0.2 in /usr/local/lib/python3.10/dist-packages (from spacy) (3.0.9)\n",
            "Requirement already satisfied: thinc<8.3.0,>=8.2.2 in /usr/local/lib/python3.10/dist-packages (from spacy) (8.2.3)\n",
            "Requirement already satisfied: wasabi<1.2.0,>=0.9.1 in /usr/local/lib/python3.10/dist-packages (from spacy) (1.1.2)\n",
            "Requirement already satisfied: srsly<3.0.0,>=2.4.3 in /usr/local/lib/python3.10/dist-packages (from spacy) (2.4.8)\n",
            "Requirement already satisfied: catalogue<2.1.0,>=2.0.6 in /usr/local/lib/python3.10/dist-packages (from spacy) (2.0.10)\n",
            "Requirement already satisfied: weasel<0.4.0,>=0.1.0 in /usr/local/lib/python3.10/dist-packages (from spacy) (0.3.4)\n",
            "Requirement already satisfied: typer<0.10.0,>=0.3.0 in /usr/local/lib/python3.10/dist-packages (from spacy) (0.9.0)\n",
            "Requirement already satisfied: smart-open<7.0.0,>=5.2.1 in /usr/local/lib/python3.10/dist-packages (from spacy) (6.4.0)\n",
            "Requirement already satisfied: tqdm<5.0.0,>=4.38.0 in /usr/local/lib/python3.10/dist-packages (from spacy) (4.66.2)\n",
            "Requirement already satisfied: requests<3.0.0,>=2.13.0 in /usr/local/lib/python3.10/dist-packages (from spacy) (2.31.0)\n",
            "Requirement already satisfied: pydantic!=1.8,!=1.8.1,<3.0.0,>=1.7.4 in /usr/local/lib/python3.10/dist-packages (from spacy) (2.6.4)\n",
            "Requirement already satisfied: jinja2 in /usr/local/lib/python3.10/dist-packages (from spacy) (3.1.3)\n",
            "Requirement already satisfied: setuptools in /usr/local/lib/python3.10/dist-packages (from spacy) (67.7.2)\n",
            "Requirement already satisfied: packaging>=20.0 in /usr/local/lib/python3.10/dist-packages (from spacy) (24.0)\n",
            "Requirement already satisfied: langcodes<4.0.0,>=3.2.0 in /usr/local/lib/python3.10/dist-packages (from spacy) (3.3.0)\n",
            "Requirement already satisfied: numpy>=1.19.0 in /usr/local/lib/python3.10/dist-packages (from spacy) (1.25.2)\n",
            "Requirement already satisfied: annotated-types>=0.4.0 in /usr/local/lib/python3.10/dist-packages (from pydantic!=1.8,!=1.8.1,<3.0.0,>=1.7.4->spacy) (0.6.0)\n",
            "Requirement already satisfied: pydantic-core==2.16.3 in /usr/local/lib/python3.10/dist-packages (from pydantic!=1.8,!=1.8.1,<3.0.0,>=1.7.4->spacy) (2.16.3)\n",
            "Requirement already satisfied: typing-extensions>=4.6.1 in /usr/local/lib/python3.10/dist-packages (from pydantic!=1.8,!=1.8.1,<3.0.0,>=1.7.4->spacy) (4.10.0)\n",
            "Requirement already satisfied: charset-normalizer<4,>=2 in /usr/local/lib/python3.10/dist-packages (from requests<3.0.0,>=2.13.0->spacy) (3.3.2)\n",
            "Requirement already satisfied: idna<4,>=2.5 in /usr/local/lib/python3.10/dist-packages (from requests<3.0.0,>=2.13.0->spacy) (3.6)\n",
            "Requirement already satisfied: urllib3<3,>=1.21.1 in /usr/local/lib/python3.10/dist-packages (from requests<3.0.0,>=2.13.0->spacy) (2.0.7)\n",
            "Requirement already satisfied: certifi>=2017.4.17 in /usr/local/lib/python3.10/dist-packages (from requests<3.0.0,>=2.13.0->spacy) (2024.2.2)\n",
            "Requirement already satisfied: blis<0.8.0,>=0.7.8 in /usr/local/lib/python3.10/dist-packages (from thinc<8.3.0,>=8.2.2->spacy) (0.7.11)\n",
            "Requirement already satisfied: confection<1.0.0,>=0.0.1 in /usr/local/lib/python3.10/dist-packages (from thinc<8.3.0,>=8.2.2->spacy) (0.1.4)\n",
            "Requirement already satisfied: click<9.0.0,>=7.1.1 in /usr/local/lib/python3.10/dist-packages (from typer<0.10.0,>=0.3.0->spacy) (8.1.7)\n",
            "Requirement already satisfied: cloudpathlib<0.17.0,>=0.7.0 in /usr/local/lib/python3.10/dist-packages (from weasel<0.4.0,>=0.1.0->spacy) (0.16.0)\n",
            "Requirement already satisfied: MarkupSafe>=2.0 in /usr/local/lib/python3.10/dist-packages (from jinja2->spacy) (2.1.5)\n",
            "Requirement already satisfied: scikit-learn in /usr/local/lib/python3.10/dist-packages (1.2.2)\n",
            "Requirement already satisfied: numpy>=1.17.3 in /usr/local/lib/python3.10/dist-packages (from scikit-learn) (1.25.2)\n",
            "Requirement already satisfied: scipy>=1.3.2 in /usr/local/lib/python3.10/dist-packages (from scikit-learn) (1.11.4)\n",
            "Requirement already satisfied: joblib>=1.1.1 in /usr/local/lib/python3.10/dist-packages (from scikit-learn) (1.3.2)\n",
            "Requirement already satisfied: threadpoolctl>=2.0.0 in /usr/local/lib/python3.10/dist-packages (from scikit-learn) (3.3.0)\n",
            "Collecting en-core-web-md==3.7.1\n",
            "  Downloading https://github.com/explosion/spacy-models/releases/download/en_core_web_md-3.7.1/en_core_web_md-3.7.1-py3-none-any.whl (42.8 MB)\n",
            "\u001b[2K     \u001b[90m━━━━━━━━━━━━━━━━━━━━━━━━━━━━━━━━━━━━━━━━\u001b[0m \u001b[32m42.8/42.8 MB\u001b[0m \u001b[31m13.8 MB/s\u001b[0m eta \u001b[36m0:00:00\u001b[0m\n",
            "\u001b[?25hRequirement already satisfied: spacy<3.8.0,>=3.7.2 in /usr/local/lib/python3.10/dist-packages (from en-core-web-md==3.7.1) (3.7.4)\n",
            "Requirement already satisfied: spacy-legacy<3.1.0,>=3.0.11 in /usr/local/lib/python3.10/dist-packages (from spacy<3.8.0,>=3.7.2->en-core-web-md==3.7.1) (3.0.12)\n",
            "Requirement already satisfied: spacy-loggers<2.0.0,>=1.0.0 in /usr/local/lib/python3.10/dist-packages (from spacy<3.8.0,>=3.7.2->en-core-web-md==3.7.1) (1.0.5)\n",
            "Requirement already satisfied: murmurhash<1.1.0,>=0.28.0 in /usr/local/lib/python3.10/dist-packages (from spacy<3.8.0,>=3.7.2->en-core-web-md==3.7.1) (1.0.10)\n",
            "Requirement already satisfied: cymem<2.1.0,>=2.0.2 in /usr/local/lib/python3.10/dist-packages (from spacy<3.8.0,>=3.7.2->en-core-web-md==3.7.1) (2.0.8)\n",
            "Requirement already satisfied: preshed<3.1.0,>=3.0.2 in /usr/local/lib/python3.10/dist-packages (from spacy<3.8.0,>=3.7.2->en-core-web-md==3.7.1) (3.0.9)\n",
            "Requirement already satisfied: thinc<8.3.0,>=8.2.2 in /usr/local/lib/python3.10/dist-packages (from spacy<3.8.0,>=3.7.2->en-core-web-md==3.7.1) (8.2.3)\n",
            "Requirement already satisfied: wasabi<1.2.0,>=0.9.1 in /usr/local/lib/python3.10/dist-packages (from spacy<3.8.0,>=3.7.2->en-core-web-md==3.7.1) (1.1.2)\n",
            "Requirement already satisfied: srsly<3.0.0,>=2.4.3 in /usr/local/lib/python3.10/dist-packages (from spacy<3.8.0,>=3.7.2->en-core-web-md==3.7.1) (2.4.8)\n",
            "Requirement already satisfied: catalogue<2.1.0,>=2.0.6 in /usr/local/lib/python3.10/dist-packages (from spacy<3.8.0,>=3.7.2->en-core-web-md==3.7.1) (2.0.10)\n",
            "Requirement already satisfied: weasel<0.4.0,>=0.1.0 in /usr/local/lib/python3.10/dist-packages (from spacy<3.8.0,>=3.7.2->en-core-web-md==3.7.1) (0.3.4)\n",
            "Requirement already satisfied: typer<0.10.0,>=0.3.0 in /usr/local/lib/python3.10/dist-packages (from spacy<3.8.0,>=3.7.2->en-core-web-md==3.7.1) (0.9.0)\n",
            "Requirement already satisfied: smart-open<7.0.0,>=5.2.1 in /usr/local/lib/python3.10/dist-packages (from spacy<3.8.0,>=3.7.2->en-core-web-md==3.7.1) (6.4.0)\n",
            "Requirement already satisfied: tqdm<5.0.0,>=4.38.0 in /usr/local/lib/python3.10/dist-packages (from spacy<3.8.0,>=3.7.2->en-core-web-md==3.7.1) (4.66.2)\n",
            "Requirement already satisfied: requests<3.0.0,>=2.13.0 in /usr/local/lib/python3.10/dist-packages (from spacy<3.8.0,>=3.7.2->en-core-web-md==3.7.1) (2.31.0)\n",
            "Requirement already satisfied: pydantic!=1.8,!=1.8.1,<3.0.0,>=1.7.4 in /usr/local/lib/python3.10/dist-packages (from spacy<3.8.0,>=3.7.2->en-core-web-md==3.7.1) (2.6.4)\n",
            "Requirement already satisfied: jinja2 in /usr/local/lib/python3.10/dist-packages (from spacy<3.8.0,>=3.7.2->en-core-web-md==3.7.1) (3.1.3)\n",
            "Requirement already satisfied: setuptools in /usr/local/lib/python3.10/dist-packages (from spacy<3.8.0,>=3.7.2->en-core-web-md==3.7.1) (67.7.2)\n",
            "Requirement already satisfied: packaging>=20.0 in /usr/local/lib/python3.10/dist-packages (from spacy<3.8.0,>=3.7.2->en-core-web-md==3.7.1) (24.0)\n",
            "Requirement already satisfied: langcodes<4.0.0,>=3.2.0 in /usr/local/lib/python3.10/dist-packages (from spacy<3.8.0,>=3.7.2->en-core-web-md==3.7.1) (3.3.0)\n",
            "Requirement already satisfied: numpy>=1.19.0 in /usr/local/lib/python3.10/dist-packages (from spacy<3.8.0,>=3.7.2->en-core-web-md==3.7.1) (1.25.2)\n",
            "Requirement already satisfied: annotated-types>=0.4.0 in /usr/local/lib/python3.10/dist-packages (from pydantic!=1.8,!=1.8.1,<3.0.0,>=1.7.4->spacy<3.8.0,>=3.7.2->en-core-web-md==3.7.1) (0.6.0)\n",
            "Requirement already satisfied: pydantic-core==2.16.3 in /usr/local/lib/python3.10/dist-packages (from pydantic!=1.8,!=1.8.1,<3.0.0,>=1.7.4->spacy<3.8.0,>=3.7.2->en-core-web-md==3.7.1) (2.16.3)\n",
            "Requirement already satisfied: typing-extensions>=4.6.1 in /usr/local/lib/python3.10/dist-packages (from pydantic!=1.8,!=1.8.1,<3.0.0,>=1.7.4->spacy<3.8.0,>=3.7.2->en-core-web-md==3.7.1) (4.10.0)\n",
            "Requirement already satisfied: charset-normalizer<4,>=2 in /usr/local/lib/python3.10/dist-packages (from requests<3.0.0,>=2.13.0->spacy<3.8.0,>=3.7.2->en-core-web-md==3.7.1) (3.3.2)\n",
            "Requirement already satisfied: idna<4,>=2.5 in /usr/local/lib/python3.10/dist-packages (from requests<3.0.0,>=2.13.0->spacy<3.8.0,>=3.7.2->en-core-web-md==3.7.1) (3.6)\n",
            "Requirement already satisfied: urllib3<3,>=1.21.1 in /usr/local/lib/python3.10/dist-packages (from requests<3.0.0,>=2.13.0->spacy<3.8.0,>=3.7.2->en-core-web-md==3.7.1) (2.0.7)\n",
            "Requirement already satisfied: certifi>=2017.4.17 in /usr/local/lib/python3.10/dist-packages (from requests<3.0.0,>=2.13.0->spacy<3.8.0,>=3.7.2->en-core-web-md==3.7.1) (2024.2.2)\n",
            "Requirement already satisfied: blis<0.8.0,>=0.7.8 in /usr/local/lib/python3.10/dist-packages (from thinc<8.3.0,>=8.2.2->spacy<3.8.0,>=3.7.2->en-core-web-md==3.7.1) (0.7.11)\n",
            "Requirement already satisfied: confection<1.0.0,>=0.0.1 in /usr/local/lib/python3.10/dist-packages (from thinc<8.3.0,>=8.2.2->spacy<3.8.0,>=3.7.2->en-core-web-md==3.7.1) (0.1.4)\n",
            "Requirement already satisfied: click<9.0.0,>=7.1.1 in /usr/local/lib/python3.10/dist-packages (from typer<0.10.0,>=0.3.0->spacy<3.8.0,>=3.7.2->en-core-web-md==3.7.1) (8.1.7)\n",
            "Requirement already satisfied: cloudpathlib<0.17.0,>=0.7.0 in /usr/local/lib/python3.10/dist-packages (from weasel<0.4.0,>=0.1.0->spacy<3.8.0,>=3.7.2->en-core-web-md==3.7.1) (0.16.0)\n",
            "Requirement already satisfied: MarkupSafe>=2.0 in /usr/local/lib/python3.10/dist-packages (from jinja2->spacy<3.8.0,>=3.7.2->en-core-web-md==3.7.1) (2.1.5)\n",
            "Installing collected packages: en-core-web-md\n",
            "Successfully installed en-core-web-md-3.7.1\n",
            "\u001b[38;5;2m✔ Download and installation successful\u001b[0m\n",
            "You can now load the package via spacy.load('en_core_web_md')\n",
            "\u001b[38;5;3m⚠ Restart to reload dependencies\u001b[0m\n",
            "If you are in a Jupyter or Colab notebook, you may need to restart Python in\n",
            "order to load all the package's dependencies. You can do this by selecting the\n",
            "'Restart kernel' or 'Restart runtime' option.\n"
          ]
        }
      ]
    },
    {
      "cell_type": "code",
      "source": [
        "import spacy\n",
        "import numpy as np\n",
        "from sklearn.decomposition import PCA\n",
        "import matplotlib.pyplot as plt\n",
        "\n",
        "nlp = spacy.load(\"en_core_web_md\")\n",
        "\n",
        "words = [\"dog\", \"cat\", \"fish\", \"bird\", \"tiger\", \"lion\", \"banana\", \"apple\", \"orange\", \"carrot\", \"computer\", \"phone\", \"book\", \"paper\"]\n",
        "\n",
        "word_vectors = np.array([nlp(word).vector for word in words])\n",
        "\n",
        "pca = PCA(n_components=2)\n",
        "word_vectors_2d = pca.fit_transform(word_vectors)\n",
        "\n",
        "# Vizualizăm cuvintele în 2D\n",
        "plt.figure(figsize=(10, 8))\n",
        "plt.scatter(word_vectors_2d[:, 0], word_vectors_2d[:, 1])\n",
        "\n",
        "# Adăugăm etichete pentru fiecare punct\n",
        "for i, word in enumerate(words):\n",
        "    plt.text(word_vectors_2d[i, 0], word_vectors_2d[i, 1], word)\n",
        "\n",
        "plt.xlabel(\"PCA 1\")\n",
        "plt.ylabel(\"PCA 2\")\n",
        "plt.title(\"Vizualizarea cuvintelor în 2D folosind PCA\")\n",
        "plt.show()"
      ],
      "metadata": {
        "colab": {
          "base_uri": "https://localhost:8080/",
          "height": 718
        },
        "id": "cloUgOE9n4gs",
        "outputId": "1b69ebff-859c-4ec5-fb7a-172bf4a49c0e"
      },
      "execution_count": null,
      "outputs": [
        {
          "output_type": "display_data",
          "data": {
            "text/plain": [
              "<Figure size 1000x800 with 1 Axes>"
            ],
            "image/png": "[encoded data removed]"
          },
          "metadata": {}
        }
      ]
    }
  ]
}
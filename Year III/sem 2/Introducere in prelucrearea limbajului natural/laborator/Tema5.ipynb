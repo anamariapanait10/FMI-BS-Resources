{
  "nbformat": 4,
  "nbformat_minor": 0,
  "metadata": {
    "colab": {
      "provenance": []
    },
    "kernelspec": {
      "name": "python3",
      "display_name": "Python 3"
    },
    "language_info": {
      "name": "python"
    }
  },
  "cells": [
    {
      "cell_type": "markdown",
      "source": [
        "Exercitiul 1 - Implementați o funcție care afiseza pentru un cuvânt definițiile tuturor synseturilor din care face parte cuvântul."
      ],
      "metadata": {
        "id": "TSSwOqMNikxN"
      }
    },
    {
      "cell_type": "code",
      "execution_count": null,
      "metadata": {
        "colab": {
          "base_uri": "https://localhost:8080/"
        },
        "id": "D-eeWopriiKU",
        "outputId": "c991bc6f-2123-4d37-be25-cf0da2ccfe11"
      },
      "outputs": [
        {
          "output_type": "stream",
          "name": "stderr",
          "text": [
            "[nltk_data] Downloading package wordnet to /root/nltk_data...\n"
          ]
        },
        {
          "output_type": "execute_result",
          "data": {
            "text/plain": [
              "True"
            ]
          },
          "metadata": {},
          "execution_count": 1
        }
      ],
      "source": [
        "import nltk\n",
        "nltk.download('wordnet')"
      ]
    },
    {
      "cell_type": "code",
      "source": [
        "from nltk.corpus import wordnet as wn\n",
        "\n",
        "def afiseaza_definitii_synset(cuvant):\n",
        "    synsets = wn.synsets(cuvant)\n",
        "\n",
        "    for synset in synsets:\n",
        "        print(f\"{synset}: {synset.definition()}\")\n",
        "\n",
        "\n",
        "afiseaza_definitii_synset('dog')"
      ],
      "metadata": {
        "colab": {
          "base_uri": "https://localhost:8080/"
        },
        "id": "bqSMMfT_jpun",
        "outputId": "e3139a72-df34-4570-9158-997d4f494a3a"
      },
      "execution_count": null,
      "outputs": [
        {
          "output_type": "stream",
          "name": "stdout",
          "text": [
            "Synset('dog.n.01'): a member of the genus Canis (probably descended from the common wolf) that has been domesticated by man since prehistoric times; occurs in many breeds\n",
            "Synset('frump.n.01'): a dull unattractive unpleasant girl or woman\n",
            "Synset('dog.n.03'): informal term for a man\n",
            "Synset('cad.n.01'): someone who is morally reprehensible\n",
            "Synset('frank.n.02'): a smooth-textured sausage of minced beef or pork usually smoked; often served on a bread roll\n",
            "Synset('pawl.n.01'): a hinged catch that fits into a notch of a ratchet to move a wheel forward or prevent it from moving backward\n",
            "Synset('andiron.n.01'): metal supports for logs in a fireplace\n",
            "Synset('chase.v.01'): go after with the intent to catch\n"
          ]
        }
      ]
    },
    {
      "cell_type": "markdown",
      "source": [
        "Exercitiul 2 - Implementați o funcție care verifica daca doua cuvinte  w1  și  w2  au cel puțin un synset comun. Cu alte cuvinte verificați daca  w1  și  w2  sunt sinonime."
      ],
      "metadata": {
        "id": "PC0Bnv5fiowV"
      }
    },
    {
      "cell_type": "code",
      "source": [
        "def verifica_sinonime(w1, w2):\n",
        "    synsets_w1 = wn.synsets(w1)\n",
        "    synsets_w2 = wn.synsets(w2)\n",
        "\n",
        "    for synset in synsets_w1:\n",
        "        if synset in synsets_w2:\n",
        "            return True\n",
        "\n",
        "    return False\n",
        "\n",
        "print(verifica_sinonime('dog', 'hound'))\n",
        "print(verifica_sinonime('dog', 'cat'))"
      ],
      "metadata": {
        "colab": {
          "base_uri": "https://localhost:8080/"
        },
        "id": "BfcJM3h6isKc",
        "outputId": "b9806c50-e203-43c2-fc72-72aec456de3d"
      },
      "execution_count": null,
      "outputs": [
        {
          "output_type": "stream",
          "name": "stdout",
          "text": [
            "True\n",
            "False\n"
          ]
        }
      ]
    },
    {
      "cell_type": "markdown",
      "source": [
        "Exercitiul 3 - Implementați o funcție care pentru un synset dat afișează toate holonymele și toate meronymele sale."
      ],
      "metadata": {
        "id": "LBQZgDr6iu93"
      }
    },
    {
      "cell_type": "code",
      "source": [
        "def afiseaza_holonyme_meronyme(lemma, pos):\n",
        "    synsets = wn.synsets(lemma, pos=pos)\n",
        "\n",
        "    for synset in synsets:\n",
        "        print(f\"Analizând synset-ul: {synset.name()} - {synset.definition()}\")\n",
        "\n",
        "        print(\"  Meronyme:\")\n",
        "        print(\"    Part Meronyme:\", synset.part_meronyms())\n",
        "        print(\"    Substance Meronyme:\", synset.substance_meronyms())\n",
        "        print(\"    Member Meronyme:\", synset.member_meronyms())\n",
        "\n",
        "        print(\"  Holonyme:\")\n",
        "        print(\"    Part Holonyme:\", synset.part_holonyms())\n",
        "        print(\"    Substance Holonyme:\", synset.substance_holonyms())\n",
        "        print(\"    Member Holonyme:\", synset.member_holonyms())\n",
        "        print(\"\")\n",
        "\n",
        "afiseaza_holonyme_meronyme('tree', 'n')"
      ],
      "metadata": {
        "colab": {
          "base_uri": "https://localhost:8080/"
        },
        "id": "XEh7lEkrixrr",
        "outputId": "ab6f829a-0e53-4270-c750-9e2481aa446a"
      },
      "execution_count": null,
      "outputs": [
        {
          "output_type": "stream",
          "name": "stdout",
          "text": [
            "Analizând synset-ul: tree.n.01 - a tall perennial woody plant having a main trunk and branches forming a distinct elevated crown; includes both gymnosperms and angiosperms\n",
            "  Meronyme:\n",
            "    Part Meronyme: [Synset('burl.n.02'), Synset('crown.n.07'), Synset('limb.n.02'), Synset('stump.n.01'), Synset('trunk.n.01')]\n",
            "    Substance Meronyme: [Synset('heartwood.n.01'), Synset('sapwood.n.01')]\n",
            "    Member Meronyme: []\n",
            "  Holonyme:\n",
            "    Part Holonyme: []\n",
            "    Substance Holonyme: []\n",
            "    Member Holonyme: [Synset('forest.n.01')]\n",
            "\n",
            "Analizând synset-ul: tree.n.02 - a figure that branches from a single root\n",
            "  Meronyme:\n",
            "    Part Meronyme: []\n",
            "    Substance Meronyme: []\n",
            "    Member Meronyme: []\n",
            "  Holonyme:\n",
            "    Part Holonyme: []\n",
            "    Substance Holonyme: []\n",
            "    Member Holonyme: []\n",
            "\n",
            "Analizând synset-ul: tree.n.03 - English actor and theatrical producer noted for his lavish productions of Shakespeare (1853-1917)\n",
            "  Meronyme:\n",
            "    Part Meronyme: []\n",
            "    Substance Meronyme: []\n",
            "    Member Meronyme: []\n",
            "  Holonyme:\n",
            "    Part Holonyme: []\n",
            "    Substance Holonyme: []\n",
            "    Member Holonyme: []\n",
            "\n"
          ]
        }
      ]
    },
    {
      "cell_type": "markdown",
      "source": [
        "Exercitiul 4 - Implementați o funcție care afișează pentru un synset dat toate drumurile de hypernyme corespunzătoare acestuia."
      ],
      "metadata": {
        "id": "RkwhLTivizTn"
      }
    },
    {
      "cell_type": "code",
      "source": [
        "def afiseaza_hypernym_paths(synset_id):\n",
        "    synset = wn.synset(synset_id)\n",
        "\n",
        "    print(f\"Drumurile hypernyme pentru {synset.name()} ({synset.definition()}):\")\n",
        "\n",
        "    for path_index, path in enumerate(synset.hypernym_paths()):\n",
        "        print(f\"  Drumul {path_index + 1}:\")\n",
        "        for hypernym in path:\n",
        "            print(f\"    {hypernym.name()} ({hypernym.definition()})\")\n",
        "\n",
        "afiseaza_hypernym_paths('dog.n.01')"
      ],
      "metadata": {
        "colab": {
          "base_uri": "https://localhost:8080/"
        },
        "id": "yzbY_HDti1zO",
        "outputId": "fb8ad728-a183-45fb-a388-6c180816e49e"
      },
      "execution_count": null,
      "outputs": [
        {
          "output_type": "stream",
          "name": "stdout",
          "text": [
            "Drumurile hypernyme pentru dog.n.01 (a member of the genus Canis (probably descended from the common wolf) that has been domesticated by man since prehistoric times; occurs in many breeds):\n",
            "  Drumul 1:\n",
            "    entity.n.01 (that which is perceived or known or inferred to have its own distinct existence (living or nonliving))\n",
            "    physical_entity.n.01 (an entity that has physical existence)\n",
            "    object.n.01 (a tangible and visible entity; an entity that can cast a shadow)\n",
            "    whole.n.02 (an assemblage of parts that is regarded as a single entity)\n",
            "    living_thing.n.01 (a living (or once living) entity)\n",
            "    organism.n.01 (a living thing that has (or can develop) the ability to act or function independently)\n",
            "    animal.n.01 (a living organism characterized by voluntary movement)\n",
            "    chordate.n.01 (any animal of the phylum Chordata having a notochord or spinal column)\n",
            "    vertebrate.n.01 (animals having a bony or cartilaginous skeleton with a segmented spinal column and a large brain enclosed in a skull or cranium)\n",
            "    mammal.n.01 (any warm-blooded vertebrate having the skin more or less covered with hair; young are born alive except for the small subclass of monotremes and nourished with milk)\n",
            "    placental.n.01 (mammals having a placenta; all mammals except monotremes and marsupials)\n",
            "    carnivore.n.01 (a terrestrial or aquatic flesh-eating mammal)\n",
            "    canine.n.02 (any of various fissiped mammals with nonretractile claws and typically long muzzles)\n",
            "    dog.n.01 (a member of the genus Canis (probably descended from the common wolf) that has been domesticated by man since prehistoric times; occurs in many breeds)\n",
            "  Drumul 2:\n",
            "    entity.n.01 (that which is perceived or known or inferred to have its own distinct existence (living or nonliving))\n",
            "    physical_entity.n.01 (an entity that has physical existence)\n",
            "    object.n.01 (a tangible and visible entity; an entity that can cast a shadow)\n",
            "    whole.n.02 (an assemblage of parts that is regarded as a single entity)\n",
            "    living_thing.n.01 (a living (or once living) entity)\n",
            "    organism.n.01 (a living thing that has (or can develop) the ability to act or function independently)\n",
            "    animal.n.01 (a living organism characterized by voluntary movement)\n",
            "    domestic_animal.n.01 (any of various animals that have been tamed and made fit for a human environment)\n",
            "    dog.n.01 (a member of the genus Canis (probably descended from the common wolf) that has been domesticated by man since prehistoric times; occurs in many breeds)\n"
          ]
        }
      ]
    },
    {
      "cell_type": "markdown",
      "source": [
        "Exercitiul 5 - Implementați o funcție care pentru doua synseturi determina lowest common hypernym(s) și afișează definiția acestor sensuri comune."
      ],
      "metadata": {
        "id": "4VJ5_pJvi2_a"
      }
    },
    {
      "cell_type": "code",
      "source": [
        "def afiseaza_lowest_common_hypernyms(synset_id1, synset_id2):\n",
        "    synset1 = wn.synset(synset_id1)\n",
        "    synset2 = wn.synset(synset_id2)\n",
        "\n",
        "    lowest_common_hypernyms = synset1.lowest_common_hypernyms(synset2)\n",
        "\n",
        "    if not lowest_common_hypernyms:\n",
        "        print(\"Nu există un hypernym comun.\")\n",
        "        return\n",
        "\n",
        "    print(f\"Cel(e) mai jos comun(e) hypernym(s) pentru {synset1.name()} și {synset2.name()} sunt:\")\n",
        "    for hypernym in lowest_common_hypernyms:\n",
        "        print(f\"{hypernym.name()} - {hypernym.definition()}\")\n",
        "\n",
        "\n",
        "afiseaza_lowest_common_hypernyms('dog.n.01', 'cat.n.01')"
      ],
      "metadata": {
        "colab": {
          "base_uri": "https://localhost:8080/"
        },
        "id": "mDpFoopli5Ty",
        "outputId": "d541dd3f-9261-4ffc-8c68-cd9cbd7bf2a3"
      },
      "execution_count": null,
      "outputs": [
        {
          "output_type": "stream",
          "name": "stdout",
          "text": [
            "Cel(e) mai jos comun(e) hypernym(s) pentru dog.n.01 și cat.n.01 sunt:\n",
            "carnivore.n.01 - a terrestrial or aquatic flesh-eating mammal\n"
          ]
        }
      ]
    },
    {
      "cell_type": "markdown",
      "source": [
        "Exercitiul 6 - Implementați o funcție care primește un synset  s  și o lista de synseturi. Sortați aceasta lista descrescător conform similarității dintre  s  și componentele sale."
      ],
      "metadata": {
        "id": "Y2lqkO5ai6wQ"
      }
    },
    {
      "cell_type": "code",
      "source": [
        "def sorteaza_dupa_similaritate(s, lista_synseturi):\n",
        "    def similaritate(synset):\n",
        "        return s.path_similarity(synset) or 0\n",
        "\n",
        "    lista_sortata = sorted(lista_synseturi, key=similaritate, reverse=True)\n",
        "\n",
        "    return lista_sortata\n",
        "\n",
        "s = wn.synset('dog.n.01')\n",
        "lista_synseturi = [wn.synset('cat.n.01'), wn.synset('wolf.n.01'), wn.synset('banana.n.01'), wn.synset('animal.n.01')]\n",
        "\n",
        "lista_sortata = sorteaza_dupa_similaritate(s, lista_synseturi)\n",
        "for synset in lista_sortata:\n",
        "    print(f\"{synset.name()} - Similaritate: {s.path_similarity(synset)}\")"
      ],
      "metadata": {
        "colab": {
          "base_uri": "https://localhost:8080/"
        },
        "id": "kSiNoGrai9B-",
        "outputId": "c508bdad-4dd7-47bb-a416-157816b9f6f3"
      },
      "execution_count": null,
      "outputs": [
        {
          "output_type": "stream",
          "name": "stdout",
          "text": [
            "wolf.n.01 - Similaritate: 0.3333333333333333\n",
            "animal.n.01 - Similaritate: 0.3333333333333333\n",
            "cat.n.01 - Similaritate: 0.2\n",
            "banana.n.01 - Similaritate: 0.125\n"
          ]
        }
      ]
    },
    {
      "cell_type": "markdown",
      "source": [
        "Exercitiul 7 - Implementați o funcție care afișează pentru un cuvânt sinonimele sale și antonimele sale (pentru toate sensurile cuvântului)."
      ],
      "metadata": {
        "id": "1kqtpKkXi-im"
      }
    },
    {
      "cell_type": "code",
      "source": [
        "def afiseaza_sinonime_si_antonime(cuvant):\n",
        "    sinonime = set()\n",
        "    antonime = set()\n",
        "\n",
        "    for syn in wn.synsets(cuvant):\n",
        "        sinonime.update(lem.name() for lem in syn.lemmas())\n",
        "\n",
        "        for lem in syn.lemmas():\n",
        "            antonime.update(ant.name() for ant in lem.antonyms())\n",
        "\n",
        "    print(f\"Sinonime pentru '{cuvant}': {', '.join(sorted(sinonime))}\")\n",
        "    if antonime:\n",
        "        print(f\"Antonime pentru '{cuvant}': {', '.join(sorted(antonime))}\")\n",
        "    else:\n",
        "        print(f\"Nu s-au găsit antonime pentru '{cuvant}'.\")\n",
        "\n",
        "afiseaza_sinonime_si_antonime('good')"
      ],
      "metadata": {
        "colab": {
          "base_uri": "https://localhost:8080/"
        },
        "id": "_971g3NrjA-7",
        "outputId": "1b9fc93e-bcb1-44c8-c410-0cf9b072b87b"
      },
      "execution_count": null,
      "outputs": [
        {
          "output_type": "stream",
          "name": "stdout",
          "text": [
            "Sinonime pentru 'good': adept, beneficial, commodity, dear, dependable, effective, estimable, expert, full, good, goodness, honest, honorable, in_effect, in_force, just, near, practiced, proficient, respectable, right, ripe, safe, salutary, secure, serious, skilful, skillful, sound, soundly, thoroughly, trade_good, undecomposed, unspoiled, unspoilt, upright, well\n",
            "Antonime pentru 'good': bad, badness, evil, evilness, ill\n"
          ]
        }
      ]
    }
  ]
}
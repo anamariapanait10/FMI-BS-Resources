{
  "nbformat": 4,
  "nbformat_minor": 0,
  "metadata": {
    "colab": {
      "provenance": []
    },
    "kernelspec": {
      "name": "python3",
      "display_name": "Python 3"
    },
    "language_info": {
      "name": "python"
    }
  },
  "cells": [
    {
      "cell_type": "markdown",
      "metadata": {
        "id": "9d74fde2"
      },
      "source": [
        "# WordNet"
      ]
    },
    {
      "cell_type": "markdown",
      "source": [
        "http://wordnetweb.princeton.edu/perl/webwn"
      ],
      "metadata": {
        "id": "AkUHenMsGo4n"
      }
    },
    {
      "cell_type": "code",
      "source": [
        "import nltk\n",
        "nltk.download('wordnet')"
      ],
      "metadata": {
        "id": "4kWZ9BWvLO_U",
        "colab": {
          "base_uri": "https://localhost:8080/"
        },
        "outputId": "670c3845-ff7a-454d-a9d7-c591ca75d150"
      },
      "execution_count": null,
      "outputs": [
        {
          "output_type": "stream",
          "name": "stderr",
          "text": [
            "[nltk_data] Downloading package wordnet to /root/nltk_data...\n"
          ]
        },
        {
          "output_type": "execute_result",
          "data": {
            "text/plain": [
              "True"
            ]
          },
          "metadata": {},
          "execution_count": 1
        }
      ]
    },
    {
      "cell_type": "code",
      "execution_count": null,
      "metadata": {
        "id": "78ff5d8d"
      },
      "outputs": [],
      "source": [
        "from nltk.corpus import wordnet as wn"
      ]
    },
    {
      "cell_type": "markdown",
      "metadata": {
        "id": "9628477d"
      },
      "source": [
        "WordNet este o bază de date lexicală care conține relații semantice între cuvinte. Aceasta este disponibilă în mai multe limbi, dar în acest laborator vom lucra cu baza de date pentru limba Engleză.\n",
        "\n",
        "WordNet conține substantive, verbe, adjective și adverbe grupate în submulțimi de cuvinte cu același sens.\n",
        "\n",
        "Unitatea de baza este **synset**-ul - o submulțime de cuvinte care descriu același concept. Un cuvânt poate face parte din mai multe synset-uri (adică poate avea mai multe sensuri / este polisemic)."
      ]
    },
    {
      "cell_type": "code",
      "execution_count": null,
      "metadata": {
        "id": "e04bb352",
        "outputId": "98288086-c992-49c3-9328-9a90f4ad56bb",
        "colab": {
          "base_uri": "https://localhost:8080/"
        }
      },
      "outputs": [
        {
          "output_type": "stream",
          "name": "stdout",
          "text": [
            "[Synset('school.n.01'), Synset('school.n.02'), Synset('school.n.03'), Synset('school.n.04'), Synset('school.n.05'), Synset('school.n.06'), Synset('school.n.07'), Synset('school.v.01'), Synset('educate.v.03'), Synset('school.v.03')]\n"
          ]
        }
      ],
      "source": [
        "# toate synset-urile pentru cuvântul \"school\"\n",
        "school_synsets = wn.synsets(\"school\")\n",
        "print(school_synsets)"
      ]
    },
    {
      "cell_type": "code",
      "execution_count": null,
      "metadata": {
        "id": "a4d908a9"
      },
      "outputs": [],
      "source": [
        "# alegem unul dintre ele\n",
        "syn = school_synsets[1]  # school.n.02"
      ]
    },
    {
      "cell_type": "markdown",
      "metadata": {
        "id": "0b6711f9"
      },
      "source": [
        "Pentru a vedea definiția unui anumit sens din synset, putem folosi metoda `definition`."
      ]
    },
    {
      "cell_type": "code",
      "execution_count": null,
      "metadata": {
        "id": "0a21303a",
        "outputId": "b20cbe9e-e53c-495f-9fde-479a12266c51",
        "colab": {
          "base_uri": "https://localhost:8080/"
        }
      },
      "outputs": [
        {
          "output_type": "stream",
          "name": "stdout",
          "text": [
            "a building where young people receive education\n"
          ]
        }
      ],
      "source": [
        "print(syn.definition())"
      ]
    },
    {
      "cell_type": "markdown",
      "metadata": {
        "id": "aa43f0cb"
      },
      "source": [
        "De asemenea, WordNet conține metoda `examples` cu ajutorul căreia putem vedea exemple de utilizare în text ale cuvintelor dintr-un synset."
      ]
    },
    {
      "cell_type": "code",
      "execution_count": null,
      "metadata": {
        "id": "a5ec2083",
        "outputId": "0b7b8a94-13f5-4732-e68e-ab2510701e00",
        "colab": {
          "base_uri": "https://localhost:8080/"
        }
      },
      "outputs": [
        {
          "output_type": "stream",
          "name": "stdout",
          "text": [
            "['the school was built in 1932', 'he walked to school every morning']\n"
          ]
        }
      ],
      "source": [
        "print(syn.examples())"
      ]
    },
    {
      "cell_type": "markdown",
      "metadata": {
        "id": "62f396d0"
      },
      "source": [
        "Putem afișa pentru un synset toate lemele (formele de dicționar) ale cuvintelor care au acel sens."
      ]
    },
    {
      "cell_type": "code",
      "execution_count": null,
      "metadata": {
        "id": "dd05affe",
        "outputId": "77218a12-a2fb-4675-9b62-850932ca4f86",
        "colab": {
          "base_uri": "https://localhost:8080/"
        }
      },
      "outputs": [
        {
          "output_type": "stream",
          "name": "stdout",
          "text": [
            "[Lemma('school.n.02.school'), Lemma('school.n.02.schoolhouse')]\n",
            "['school', 'schoolhouse']\n"
          ]
        }
      ],
      "source": [
        "print(syn.lemmas())\n",
        "print(syn.lemma_names())"
      ]
    },
    {
      "cell_type": "markdown",
      "metadata": {
        "id": "5624da24"
      },
      "source": [
        "WordNet însă nu este doar o împărțire a cuvintelor în sensuri. Această resursă este valoroasă și prin multitudinea de relații pe care le definește între synset-uri.\n",
        "\n",
        "Synset-urile în WordNet se împart în synset-uri pentru substantive (*n*), adjective (*a*, *s*), verbe (*v*) și adverbe (*r*). Principalele relații sunt definite între synset-uri corespunzătoare acelorași părți de vorbire (PoS - part-of-speech), însă există și relatii cross-PoS."
      ]
    },
    {
      "cell_type": "markdown",
      "metadata": {
        "id": "40f6f18b"
      },
      "source": [
        "## Tipuri de relații pentru substantive"
      ]
    },
    {
      "cell_type": "markdown",
      "metadata": {
        "id": "eef79bd9"
      },
      "source": [
        "### 1. Hiperonime/Hiponime\n",
        "\n",
        "Spunem că sensul $s_1$ este un *hiperonim* al sensului $s_2$ dacă $s_1$ înglobează sensul lui $s_2$. Cu alte cuvinte, $s_2$ este un fel de $s_1$ (*is a type of*).\n",
        "\n",
        "Opusul relației de hiperonimie este relația de *hiponimie* ($s_2$ este un hiponim pentru $s_1$).\n",
        "\n",
        "Mai multe detalii [aici](https://ro.wikipedia.org/wiki/Hiponimie_%C8%99i_hiperonimie)."
      ]
    },
    {
      "cell_type": "code",
      "execution_count": null,
      "metadata": {
        "id": "58da0be9",
        "outputId": "f728fba6-9ae3-4b68-e019-8af9fe8f8644"
      },
      "outputs": [
        {
          "name": "stdout",
          "output_type": "stream",
          "text": [
            "Hypernyms: [Synset('educational_institution.n.01')]\n",
            "Hyponyms: [Synset('academy.n.03'), Synset('alma_mater.n.01'), Synset('conservatory.n.01'), Synset('correspondence_school.n.01'), Synset('crammer.n.03'), Synset('dance_school.n.01'), Synset('dancing_school.n.01'), Synset('day_school.n.02'), Synset('direct-grant_school.n.01'), Synset('driving_school.n.01'), Synset('finishing_school.n.01'), Synset('flying_school.n.01'), Synset('grade_school.n.01'), Synset('graduate_school.n.01'), Synset('language_school.n.01'), Synset('night_school.n.01'), Synset('nursing_school.n.01'), Synset('private_school.n.01'), Synset('public_school.n.01'), Synset('religious_school.n.01'), Synset('riding_school.n.01'), Synset('secondary_school.n.01'), Synset('secretarial_school.n.01'), Synset('sunday_school.n.01'), Synset('technical_school.n.01'), Synset('training_school.n.01'), Synset('veterinary_school.n.01')]\n"
          ]
        }
      ],
      "source": [
        "syn = wn.synset('school.n.01')\n",
        "print(\"Hypernyms:\", syn.hypernyms())\n",
        "print(\"Hyponyms:\", syn.hyponyms())"
      ]
    },
    {
      "cell_type": "markdown",
      "metadata": {
        "id": "6545a6d9"
      },
      "source": [
        "### 2. Meronime/Holonime\n",
        "\n",
        "Spunem că sensul $s_1$ este un *holonim* al sensului $s_2$ daca $s_1$ îl \"conține\" pe $s_2$. Holonimele sunt de 3 feluri:\n",
        " - part (part of)\n",
        " - substance (made of)\n",
        " - member (contains)\n",
        "\n",
        "Invers, spunem că $s_2$ este un meronim pentru $s_1$.\n",
        "\n",
        "Mai multe detalii [aici](https://ro.wikipedia.org/wiki/Meronimie_%C8%99i_holonimie)."
      ]
    },
    {
      "cell_type": "code",
      "execution_count": null,
      "metadata": {
        "id": "f74a2644",
        "outputId": "28e6cc89-e5bc-4f66-b2f3-1b1b3b326ff4",
        "colab": {
          "base_uri": "https://localhost:8080/"
        }
      },
      "outputs": [
        {
          "output_type": "stream",
          "name": "stdout",
          "text": [
            "[Synset('wind.n.01')]\n",
            "[Synset('argon.n.01'), Synset('krypton.n.01'), Synset('neon.n.01'), Synset('nitrogen.n.01'), Synset('oxygen.n.01'), Synset('xenon.n.01')]\n"
          ]
        }
      ],
      "source": [
        "syn = wn.synset('air.n.01')\n",
        "print(syn.substance_holonyms())\n",
        "print(syn.substance_meronyms())"
      ]
    },
    {
      "cell_type": "code",
      "execution_count": null,
      "metadata": {
        "id": "9b6ed6a4",
        "outputId": "7f4f9b44-27ed-48bd-e911-e6bcde9bbe02",
        "colab": {
          "base_uri": "https://localhost:8080/"
        }
      },
      "outputs": [
        {
          "output_type": "stream",
          "name": "stdout",
          "text": [
            "[]\n",
            "[Synset('library.n.01'), Synset('loft.n.02'), Synset('porch.n.01'), Synset('study.n.05')]\n"
          ]
        }
      ],
      "source": [
        "syn = wn.synset('house.n.01')\n",
        "print(syn.part_holonyms())\n",
        "print(syn.part_meronyms())"
      ]
    },
    {
      "cell_type": "code",
      "execution_count": null,
      "metadata": {
        "id": "1a3b6673",
        "outputId": "fb1dbddc-0a10-4160-d7b3-eddb603e38c4",
        "colab": {
          "base_uri": "https://localhost:8080/"
        }
      },
      "outputs": [
        {
          "output_type": "stream",
          "name": "stdout",
          "text": [
            "[Synset('forest.n.01')]\n",
            "[Synset('burl.n.02'), Synset('crown.n.07'), Synset('limb.n.02'), Synset('stump.n.01'), Synset('trunk.n.01')]\n"
          ]
        }
      ],
      "source": [
        "syn = wn.synset('tree.n.01')\n",
        "print(syn.member_holonyms())\n",
        "print(syn.part_meronyms())"
      ]
    },
    {
      "cell_type": "markdown",
      "metadata": {
        "id": "294f4ced"
      },
      "source": [
        "## Tipuri de relatii pentru verbe"
      ]
    },
    {
      "cell_type": "markdown",
      "metadata": {
        "id": "5b06c019"
      },
      "source": [
        "### 1. Hiperonime/hiponime\n",
        "\n",
        "Lucrurile se întâmplă asemănător ca la substantive. Hiponimele pot fi văzute aici ca definind aceeași acțiune, dar într-un context mai restrâns. De exemplu, \"to jog\" sau \"to sprint\" sunt o variantă mai specifică a verbului \"to run\".\n",
        "\n",
        "Hiponimele pentru verbe mai poarta numele si de [troponime](https://en.wiktionary.org/wiki/troponym)."
      ]
    },
    {
      "cell_type": "code",
      "execution_count": null,
      "metadata": {
        "id": "f2a32e14",
        "outputId": "8e893e7f-494a-490c-8d6e-ff8636eb17e2",
        "colab": {
          "base_uri": "https://localhost:8080/"
        }
      },
      "outputs": [
        {
          "output_type": "stream",
          "name": "stdout",
          "text": [
            "[Synset('travel_rapidly.v.01')]\n",
            "[Synset('hare.v.01'), Synset('jog.v.03'), Synset('lope.v.01'), Synset('outrun.v.01'), Synset('romp.v.02'), Synset('run.v.33'), Synset('run_bases.v.01'), Synset('rush.v.05'), Synset('scurry.v.01'), Synset('sprint.v.01'), Synset('streak.v.02'), Synset('trot.v.01')]\n"
          ]
        }
      ],
      "source": [
        "syn = wn.synset('run.v.01')\n",
        "print(syn.hypernyms())\n",
        "print(syn.hyponyms())"
      ]
    },
    {
      "cell_type": "markdown",
      "metadata": {
        "id": "99fa6e47"
      },
      "source": [
        "### 2. Entailment\n",
        "\n",
        "Definește ce acțiuni trebuie să aibă loc pentru ca o anumită acțiune să se întâmple."
      ]
    },
    {
      "cell_type": "code",
      "execution_count": null,
      "metadata": {
        "id": "0a6f3fad",
        "outputId": "b924abcc-e648-4df4-c47b-5aac86796cf2",
        "colab": {
          "base_uri": "https://localhost:8080/"
        }
      },
      "outputs": [
        {
          "output_type": "stream",
          "name": "stdout",
          "text": [
            "[Synset('sleep.v.01')]\n",
            "[Synset('choose.v.01'), Synset('pay.v.01')]\n"
          ]
        }
      ],
      "source": [
        "print(wn.synset('snore.v.01').entailments())\n",
        "print(wn.synset('buy.v.01').entailments())"
      ]
    },
    {
      "cell_type": "markdown",
      "metadata": {
        "id": "0bcb32fc"
      },
      "source": [
        "## Tipuri de relații pentru adjective"
      ]
    },
    {
      "cell_type": "markdown",
      "metadata": {
        "id": "374f8ba4"
      },
      "source": [
        "### 1. Antonime\n",
        "\n",
        "Acestea se determină la nivel de lema (nu la nivel de synset)."
      ]
    },
    {
      "cell_type": "code",
      "execution_count": null,
      "metadata": {
        "id": "f1eee98b",
        "outputId": "63cab1b8-c85b-405a-e94a-90e69e85559f",
        "colab": {
          "base_uri": "https://localhost:8080/"
        }
      },
      "outputs": [
        {
          "output_type": "stream",
          "name": "stdout",
          "text": [
            "[Lemma('bad.a.01.bad')]\n"
          ]
        }
      ],
      "source": [
        "lem = wn.synset('good.a.01').lemmas()[0]\n",
        "print(lem.antonyms())"
      ]
    },
    {
      "cell_type": "markdown",
      "metadata": {
        "id": "89c5fe3a"
      },
      "source": [
        "### 2. Sinonime"
      ]
    },
    {
      "cell_type": "code",
      "execution_count": null,
      "metadata": {
        "id": "59d7be8b",
        "outputId": "31518e95-9f53-4b60-b3fe-7148b83ccaa5",
        "colab": {
          "base_uri": "https://localhost:8080/"
        }
      },
      "outputs": [
        {
          "output_type": "stream",
          "name": "stdout",
          "text": [
            "[Synset('beardown.s.01'), Synset('beefed-up.s.01'), Synset('brawny.s.01'), Synset('bullnecked.s.01'), Synset('bullocky.s.01'), Synset('fortified.s.02'), Synset('hard.s.04'), Synset('industrial-strength.s.01'), Synset('ironlike.s.01'), Synset('knock-down.s.01'), Synset('noticeable.s.04'), Synset('reinforced.s.01'), Synset('robust.s.03'), Synset('stiff.s.02'), Synset('vehement.s.02'), Synset('virile.s.01'), Synset('well-knit.s.01')]\n"
          ]
        }
      ],
      "source": [
        "syn = wn.synset('strong.a.01')\n",
        "print(syn.similar_tos())"
      ]
    },
    {
      "cell_type": "markdown",
      "metadata": {
        "id": "5ebe0c71"
      },
      "source": [
        "## Tipuri de relații pentru adverbe"
      ]
    },
    {
      "cell_type": "markdown",
      "metadata": {
        "id": "7f5e9bad"
      },
      "source": [
        "### 1. Antonime"
      ]
    },
    {
      "cell_type": "code",
      "execution_count": null,
      "metadata": {
        "id": "6b18366d",
        "outputId": "2a9d3ee7-54f1-402a-bbea-c552d734b492",
        "colab": {
          "base_uri": "https://localhost:8080/"
        }
      },
      "outputs": [
        {
          "output_type": "stream",
          "name": "stdout",
          "text": [
            "[Lemma('slowly.r.01.slowly')]\n"
          ]
        }
      ],
      "source": [
        "lem = wn.synset('quickly.r.01').lemmas()[0]\n",
        "print(lem.antonyms())"
      ]
    },
    {
      "cell_type": "markdown",
      "metadata": {
        "id": "7baa898a"
      },
      "source": [
        "## Tipuri de relatii cross-PoS"
      ]
    },
    {
      "cell_type": "markdown",
      "metadata": {
        "id": "6a08600f"
      },
      "source": [
        "### 1. Relația atributivă: attributes (substantive <-> adjective)\n",
        "\n",
        "Această relație leagă un synset $s_1$ al unui substantiv cu un synset $s_2$ al unui adjectiv dacă \"$s_2$ poate fi o valoare pentru $s_1$\"."
      ]
    },
    {
      "cell_type": "code",
      "execution_count": null,
      "metadata": {
        "id": "34519d80",
        "outputId": "319eefdf-e375-4982-f9f6-359191e140f8",
        "colab": {
          "base_uri": "https://localhost:8080/"
        }
      },
      "outputs": [
        {
          "output_type": "stream",
          "name": "stdout",
          "text": [
            "[Synset('delicate.a.01'), Synset('rugged.a.01'), Synset('strong.a.01'), Synset('weak.a.01')]\n",
            "[Synset('strength.n.01')]\n",
            "[Synset('strength.n.01')]\n"
          ]
        }
      ],
      "source": [
        "print(wn.synset('strength.n.01').attributes())\n",
        "print(wn.synset('strong.a.01').attributes())\n",
        "print(wn.synset('weak.a.01').attributes())"
      ]
    },
    {
      "cell_type": "markdown",
      "metadata": {
        "id": "902eac40"
      },
      "source": [
        "### 2. Pertainyms (pentru adjective si adverbe)\n",
        "\n",
        "Returnează concepte care se referă la calitățile descrise de adjective/adverbe."
      ]
    },
    {
      "cell_type": "code",
      "execution_count": null,
      "metadata": {
        "id": "8dfecc6a",
        "outputId": "48419a45-ef5b-4481-dd4c-d9377006a109",
        "colab": {
          "base_uri": "https://localhost:8080/"
        }
      },
      "outputs": [
        {
          "output_type": "stream",
          "name": "stdout",
          "text": [
            "[Lemma('technique.n.01.technique')]\n"
          ]
        }
      ],
      "source": [
        "lem = wn.synset('technical.a.01').lemmas()[0]\n",
        "print(lem.pertainyms())"
      ]
    },
    {
      "cell_type": "code",
      "execution_count": null,
      "metadata": {
        "id": "324ae421",
        "outputId": "288cf9ba-8601-414f-b39b-3890f478b67d",
        "colab": {
          "base_uri": "https://localhost:8080/"
        }
      },
      "outputs": [
        {
          "output_type": "stream",
          "name": "stdout",
          "text": [
            "[Lemma('quick.s.01.quick')]\n"
          ]
        }
      ],
      "source": [
        "lem = wn.synset('quickly.r.01').lemmas()[0]\n",
        "print(lem.pertainyms())"
      ]
    },
    {
      "cell_type": "markdown",
      "metadata": {
        "id": "5524ffaa"
      },
      "source": [
        "## Vizualizare\n",
        "\n",
        "Puteti folosi această platformă pentru a vizualiza relațiile din WordNet: [http://wordvis.com/](http://wordvis.com/)."
      ]
    },
    {
      "cell_type": "markdown",
      "metadata": {
        "id": "dfb19158"
      },
      "source": [
        "## Graful relatiilor pentru hypernyms\n",
        "\n",
        "Daca considerăm synset-urile noduri într-un graf, iar relațiilor de forma $s_1$ este hipernim pentru $s_2$ le asociem o muchie orientată de la $s_2$ la $s_1$, obținem un graf orientat aciclic (DAG).\n",
        "\n",
        "![](https://www.researchgate.net/profile/Zhao-Lu-3/publication/261351248/figure/fig1/AS:669012354691096@1536516383841/A-DAG-fragment-of-WordNet-30.ppm)\n",
        "\n",
        "Un drum de hipernime (hypernym path) pentru un synset este un drum în graf de la nodul acestuia până la un nod radacină (cu grad de iesire $0$). Observați că pentru un synset pot exista mai multe astfel de drumuri."
      ]
    },
    {
      "cell_type": "code",
      "execution_count": null,
      "metadata": {
        "id": "861b6943",
        "outputId": "34292977-88d6-4de6-a0f3-44bfc9e1c6a4",
        "colab": {
          "base_uri": "https://localhost:8080/"
        }
      },
      "outputs": [
        {
          "output_type": "stream",
          "name": "stdout",
          "text": [
            "3\n"
          ]
        }
      ],
      "source": [
        "syn = wn.synset(\"water.n.01\")\n",
        "paths = syn.hypernym_paths()\n",
        "print(len(paths))"
      ]
    },
    {
      "cell_type": "code",
      "execution_count": null,
      "metadata": {
        "id": "66e139c2",
        "outputId": "21402523-fbf3-4dd3-c68d-a0d0d9959783",
        "colab": {
          "base_uri": "https://localhost:8080/"
        }
      },
      "outputs": [
        {
          "output_type": "stream",
          "name": "stdout",
          "text": [
            "water.n.01 -> binary_compound.n.01 -> compound.n.02 -> chemical.n.01 -> material.n.01 -> substance.n.01 -> matter.n.03 -> physical_entity.n.01 -> entity.n.01\n"
          ]
        }
      ],
      "source": [
        "path = paths[0][::-1]\n",
        "print(\" -> \".join(n.name() for n in path))"
      ]
    },
    {
      "cell_type": "markdown",
      "metadata": {
        "id": "863a367f"
      },
      "source": [
        "Definim *adâncimea* unui synset ca fiind lungimea celui mai lung astfel de hypernym path.\n",
        "\n",
        "Numim *lowest common hypernym* al două synstet-uri ($s_1$ si $s_2$), synsetul (sau synset-urile) cu adâncime maximă care se află pe cel puțin un hypernym path al lui $s_1$ și pe cel puțin un hypernym path al lui $s_2$.\n",
        "\n",
        "În exemplul de mai sus, *lowest common hypernym* pentru \"bus \\#1\" si \"engine\" este \"public transport\"."
      ]
    },
    {
      "cell_type": "markdown",
      "metadata": {
        "id": "b668beeb"
      },
      "source": [
        "Pe baza acestor drumuri se poate calcula și un scor de similaritate între două synset-uri."
      ]
    },
    {
      "cell_type": "code",
      "execution_count": null,
      "metadata": {
        "id": "c6d31f86",
        "outputId": "c9c43a62-1497-43de-eb46-7a1baef6b045",
        "colab": {
          "base_uri": "https://localhost:8080/"
        }
      },
      "outputs": [
        {
          "output_type": "stream",
          "name": "stdout",
          "text": [
            "dog ~ cat: 0.2\n",
            "dog ~ plane: 0.07142857142857142\n"
          ]
        }
      ],
      "source": [
        "dog = wn.synset('dog.n.01')\n",
        "cat = wn.synset('cat.n.01')\n",
        "plane = wn.synset('plane.n.01')\n",
        "\n",
        "print(\"dog ~ cat:\", dog.path_similarity(cat))\n",
        "print(\"dog ~ plane:\", dog.path_similarity(plane))"
      ]
    },
    {
      "cell_type": "markdown",
      "metadata": {
        "id": "90b36bd7"
      },
      "source": [
        "# Exerciții\n",
        "\n",
        "\n",
        "1. Implementați o funcție care afiseza pentru un cuvânt definițiile tuturor synseturilor din care face parte cuvântul.\n",
        "2. Implementați o funcție care verifica daca doua cuvinte $w_1$ și $w_2$ au cel puțin un synset comun. Cu alte cuvinte verificați daca $w_1$ și $w_2$ sunt sinonime.\n",
        "3. Implementați o funcție care pentru un synset dat afișează toate holonymele și toate meronymele sale.\n",
        "4. Implementați o funcție care afișează pentru un synset dat toate drumurile de hypernyme corespunzătoare acestuia.\n",
        "5. Implementați o funcție care pentru doua synseturi determina lowest common hypernym(s) și afișează definiția acestor sensuri comune.\n",
        "6. Implementați o funcție care primește un synset $s$ și o lista de synseturi. Sortați aceasta lista descrescător conform similarității dintre $s$ și componentele sale.\n",
        "7. Implementați o funcție care afișează pentru un cuvânt sinonimele sale și antonimele sale (pentru toate sensurile cuvântului)."
      ]
    }
  ]
}
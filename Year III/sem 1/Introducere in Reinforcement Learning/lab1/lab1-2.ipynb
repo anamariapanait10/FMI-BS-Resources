# First ensure that we can install numpy and gym here then import them
import sys
!{sys.executable} -m pip install numpy
!{sys.executable} -m pip install gym

import numpy as np
import gym
import time
np.set_printoptions(precision=3)
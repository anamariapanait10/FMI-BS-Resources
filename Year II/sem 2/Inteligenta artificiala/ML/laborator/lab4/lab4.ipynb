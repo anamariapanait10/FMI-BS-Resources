{
 "cells": [
  {
   "cell_type": "markdown",
   "id": "1bf2ed5c",
   "metadata": {},
   "source": [
    "# Laboratorul 4 "
   ]
  },
  {
   "cell_type": "markdown",
   "id": "9b4473ad",
   "metadata": {},
   "source": [
    "## Modelul bag-of-words"
   ]
  },
  {
   "cell_type": "markdown",
   "id": "379f8b0b",
   "metadata": {},
   "source": [
    "## Normalizarea datelor"
   ]
  },
  {
   "cell_type": "code",
   "execution_count": 1,
   "id": "ab361f4c",
   "metadata": {},
   "outputs": [],
   "source": [
    "from sklearn import preprocessing\n",
    "import numpy as np\n",
    "from sklearn import svm\n",
    "from sklearn.metrics import accuracy_score, f1_score"
   ]
  },
  {
   "cell_type": "code",
   "execution_count": 2,
   "id": "a1a62d0a",
   "metadata": {},
   "outputs": [
    {
     "name": "stdout",
     "output_type": "stream",
     "text": [
      "[1.         0.         0.33333333]\n",
      "[0.81649658 0.81649658 1.24721913]\n",
      "[[ 0.         -1.22474487  1.33630621]\n",
      " [ 1.22474487  0.         -0.26726124]\n",
      " [-1.22474487  1.22474487 -1.06904497]]\n",
      "[[-2.44948974  1.22474487 -0.26726124]]\n"
     ]
    }
   ],
   "source": [
    "x_train = np.array([[1, -1, 2], [2, 0, 0], [0, 1, -1]], dtype=np.float64)\n",
    "x_test = np.array([[-1, 1, 0]], dtype=np.float64)\n",
    "\n",
    "# facem statisticile pe datele de antrenare\n",
    "scaler = preprocessing.StandardScaler()\n",
    "scaler.fit(x_train)\n",
    "\n",
    "# afisam media\n",
    "print(scaler.mean_) # => [1. 0. 0.33333333]\n",
    "# afisam deviatia standard\n",
    "print(scaler.scale_)\n",
    "\n",
    "# scalam datele de antrenare\n",
    "scaled_x_train = scaler.transform(x_train)\n",
    "print(scaled_x_train)\n",
    "\n",
    "# scalam datele de test\n",
    "scaled_x_test = scaler.transform(x_test)\n",
    "print(scaled_x_test)"
   ]
  },
  {
   "cell_type": "code",
   "execution_count": 3,
   "id": "d7c2f6be",
   "metadata": {},
   "outputs": [],
   "source": [
    "train_data = np.load(\"data/training_sentences.npy\", allow_pickle=True)\n",
    "train_labels = np.load(\"data/training_labels.npy\", allow_pickle=True)\n",
    "\n",
    "test_data = np.load(\"data/test_sentences.npy\", allow_pickle=True)\n",
    "test_labels = np.load(\"data/test_labels.npy\", allow_pickle=True)"
   ]
  },
  {
   "cell_type": "markdown",
   "id": "3b3759a4",
   "metadata": {},
   "source": [
    "## Ex2 "
   ]
  },
  {
   "cell_type": "code",
   "execution_count": 39,
   "id": "7d106f3d",
   "metadata": {},
   "outputs": [],
   "source": [
    "def normalize_data(train_data, test_data, type=None):\n",
    "    scaler = None\n",
    "    if type == \"standard\":\n",
    "        mean = np.mean(train_data, axis=0)\n",
    "        std = np.std(train_data, axis=0) + 10 ** -8\n",
    "        scaled_train_data = (train_data - mean) / std\n",
    "        scaled_test_data = (test_data - mean) / std\n",
    "    elif type == \"l1\":\n",
    "        norm = np.sum(np.abs(train_data), axis=1, keepdims=True) + 10 ** -8\n",
    "        scaled_train_data = train_data / norm\n",
    "        norm = np.sum(np.abs(test_data), axis=1, keepdims=True) + 10 ** -8\n",
    "        scaled_test_data = test_data / norm\n",
    "    elif type == \"l2\":\n",
    "        norm = np.sqrt(np.sum(train_data ** 2, axis=1, keepdims=True)) + 10 ** -8\n",
    "        scaled_train_data = train_data / norm\n",
    "        norm = np.sqrt(np.sum(test_data ** 2, axis=1, keepdims=True)) + 10 ** -8\n",
    "        scaled_test_data = test_data / norm\n",
    "    else:\n",
    "        raise Exception(\"Invalid type. Must be None, standard, l1 or l2.\")\n",
    "    \n",
    "    if type is not None:\n",
    "        return scaled_train_data, scaled_test_data\n",
    "    else:\n",
    "        return train_data, test_data"
   ]
  },
  {
   "cell_type": "markdown",
   "id": "e2174e15",
   "metadata": {},
   "source": [
    "## Ex3"
   ]
  },
  {
   "cell_type": "code",
   "execution_count": 17,
   "id": "2b631e13",
   "metadata": {},
   "outputs": [
    {
     "name": "stdout",
     "output_type": "stream",
     "text": [
      "9522\n"
     ]
    }
   ],
   "source": [
    "class BagOfWords:\n",
    "    def __init__(self):\n",
    "        self.vocabulary = {}\n",
    "        self.word_list = []\n",
    "    \n",
    "    def build_vocabulary(self, data):\n",
    "        word_id = 0\n",
    "        for message in data:\n",
    "            for word in message:\n",
    "                if word not in self.vocabulary:\n",
    "                    self.vocabulary[word] = word_id\n",
    "                    self.word_list.append(word)\n",
    "                    word_id += 1\n",
    "                    \n",
    "\n",
    "bag_of_words = BagOfWords()\n",
    "bag_of_words.build_vocabulary(train_data)\n",
    "print(len(bag_of_words.vocabulary))"
   ]
  },
  {
   "cell_type": "markdown",
   "id": "e86eae5b",
   "metadata": {},
   "source": [
    "## Ex4 "
   ]
  },
  {
   "cell_type": "code",
   "execution_count": 18,
   "id": "6dcf5e91",
   "metadata": {},
   "outputs": [],
   "source": [
    "class BagOfWords:\n",
    "    def __init__(self):\n",
    "        self.vocabulary = {}\n",
    "        self.word_list = []\n",
    "    \n",
    "    def build_vocabulary(self, data):\n",
    "        word_id = 0\n",
    "        for message in data:\n",
    "            for word in message:\n",
    "                if word not in self.vocabulary:\n",
    "                    self.vocabulary[word] = word_id\n",
    "                    self.word_list.append(word)\n",
    "                    word_id += 1\n",
    "    \n",
    "    def get_features(self, data):\n",
    "        features = np.zeros((len(data), len(self.vocabulary)))\n",
    "        \n",
    "        for i, message in enumerate(data):\n",
    "            for word in message:\n",
    "                if word in self.vocabulary:\n",
    "                    word_id = self.vocabulary[word]\n",
    "                    features[i, word_id] += 1\n",
    "        \n",
    "        return features\n",
    "                                       "
   ]
  },
  {
   "cell_type": "markdown",
   "id": "7b5abb09",
   "metadata": {},
   "source": [
    "## Ex5 "
   ]
  },
  {
   "cell_type": "code",
   "execution_count": 40,
   "id": "a781c7e6",
   "metadata": {},
   "outputs": [
    {
     "name": "stdout",
     "output_type": "stream",
     "text": [
      "[[0.35355339 0.35355339 0.35355339 ... 0.         0.         0.        ]\n",
      " [0.         0.         0.         ... 0.         0.         0.        ]\n",
      " [0.         0.         0.         ... 0.         0.         0.        ]\n",
      " ...\n",
      " [0.         0.         0.         ... 0.19611613 0.19611613 0.        ]\n",
      " [0.         0.         0.         ... 0.         0.         0.33333333]\n",
      " [0.         0.         0.         ... 0.         0.         0.        ]]\n"
     ]
    }
   ],
   "source": [
    "class BagOfWords:\n",
    "    def __init__(self):\n",
    "        self.vocabulary = {}\n",
    "        self.word_list = []\n",
    "    \n",
    "    def build_vocabulary(self, data):\n",
    "        word_id = 0\n",
    "        for message in data:\n",
    "            for word in message:\n",
    "                if word not in self.vocabulary:\n",
    "                    self.vocabulary[word] = word_id\n",
    "                    self.word_list.append(word)\n",
    "                    word_id += 1\n",
    "    \n",
    "    def get_features(self, data):\n",
    "        features = np.zeros((len(data), len(self.vocabulary)))\n",
    "        \n",
    "        for i, message in enumerate(data):\n",
    "            for word in message:\n",
    "                if word in self.vocabulary:\n",
    "                    word_id = self.vocabulary[word]\n",
    "                    features[i, word_id] += 1\n",
    "        \n",
    "        return features\n",
    "        \n",
    "                                       \n",
    "bag_of_words = BagOfWords()\n",
    "bag_of_words.build_vocabulary(train_data)\n",
    "train_features = bag_of_words.get_features(train_data)\n",
    "test_features = bag_of_words.get_features(test_data)\n",
    "train_features_norm, test_features_norm = normalize_data(train_features, test_features, 'l2')\n",
    "print(train_features_norm)"
   ]
  },
  {
   "cell_type": "markdown",
   "id": "08ddbadd",
   "metadata": {},
   "source": [
    "## Ex6"
   ]
  },
  {
   "cell_type": "code",
   "execution_count": 20,
   "id": "35cb9834",
   "metadata": {},
   "outputs": [
    {
     "name": "stdout",
     "output_type": "stream",
     "text": [
      "0.9842391304347826\n",
      "0.9409368635437881\n",
      "['&lt#&gt', 'me', 'i', 'Going', 'him', 'Ok', 'I', 'Ill', 'my', 'Im']\n",
      "['Text', 'To', 'mobile', 'CALL', 'FREE', 'txt', '&', 'Call', 'Txt', 'STOP']\n"
     ]
    }
   ],
   "source": [
    "svm_model = svm.SVC(C=1, kernel='linear')\n",
    "svm_model.fit(train_features_norm, train_labels)\n",
    "test_predictions = svm_model.predict(test_features_norm)\n",
    "\n",
    "accuracy = accuracy_score(test_labels, test_predictions)\n",
    "print(accuracy)\n",
    "f1 = f1_score(test_labels, test_predictions)\n",
    "print(f1)\n",
    "\n",
    "coefficients = svm_model.coef_[0]\n",
    "sorted_words = [word for _, word in sorted(zip(coefficients, bag_of_words.word_list))]\n",
    "\n",
    "\n",
    "negative_words = sorted_words[:10]\n",
    "print(negative_words)\n",
    "positive_words = sorted_words[-10:]\n",
    "print(positive_words)"
   ]
  },
  {
   "cell_type": "code",
   "execution_count": null,
   "id": "6784d9ad",
   "metadata": {},
   "outputs": [],
   "source": []
  }
 ],
 "metadata": {
  "kernelspec": {
   "display_name": "Python 3 (ipykernel)",
   "language": "python",
   "name": "python3"
  },
  "language_info": {
   "codemirror_mode": {
    "name": "ipython",
    "version": 3
   },
   "file_extension": ".py",
   "mimetype": "text/x-python",
   "name": "python",
   "nbconvert_exporter": "python",
   "pygments_lexer": "ipython3",
   "version": "3.10.9"
  }
 },
 "nbformat": 4,
 "nbformat_minor": 5
}

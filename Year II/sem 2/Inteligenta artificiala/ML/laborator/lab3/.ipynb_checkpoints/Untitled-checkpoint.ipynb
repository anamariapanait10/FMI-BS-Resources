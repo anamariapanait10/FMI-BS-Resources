{
 "cells": [
  {
   "cell_type": "markdown",
   "id": "60209422",
   "metadata": {},
   "source": [
    "# Lab 3"
   ]
  },
  {
   "cell_type": "code",
   "execution_count": 1,
   "id": "58498b60",
   "metadata": {},
   "outputs": [],
   "source": [
    "import numpy as np"
   ]
  },
  {
   "cell_type": "markdown",
   "id": "c5eb9cfa",
   "metadata": {},
   "source": [
    "## Ex1 & 2"
   ]
  },
  {
   "cell_type": "code",
   "execution_count": null,
   "id": "addfa039",
   "metadata": {},
   "outputs": [],
   "source": [
    "class KnnClassifier:\n",
    "\n",
    "    def __init__(self, train_images, train_labels):\n",
    "        self.train_images = train_images\n",
    "        self.train_labels = train_labels\n",
    "    \n",
    "    def distance_l1(x, y):\n",
    "        return np.sum(np.square(x - y))\n",
    "\n",
    "    def classify_image(self, test_image, num_neighbors = 3, metric = 'l2'):\n",
    "        if metric.lower() == 'l1':\n",
    "        else if metric.lower() == 'l2':\n",
    "        else:\n",
    "            raise Exception(\"Invalid metric. Must be 'l1' or 'l2'\")\n",
    "        \n",
    "            \n",
    "        "
   ]
  },
  {
   "cell_type": "markdown",
   "id": "7ab78d99",
   "metadata": {},
   "source": [
    "## Ex3"
   ]
  },
  {
   "cell_type": "code",
   "execution_count": null,
   "id": "2c5de1e1",
   "metadata": {},
   "outputs": [],
   "source": []
  },
  {
   "cell_type": "markdown",
   "id": "053cf7c3",
   "metadata": {},
   "source": [
    "## Ex4"
   ]
  },
  {
   "cell_type": "code",
   "execution_count": null,
   "id": "2183a6ec",
   "metadata": {},
   "outputs": [],
   "source": []
  }
 ],
 "metadata": {
  "kernelspec": {
   "display_name": "Python 3 (ipykernel)",
   "language": "python",
   "name": "python3"
  },
  "language_info": {
   "codemirror_mode": {
    "name": "ipython",
    "version": 3
   },
   "file_extension": ".py",
   "mimetype": "text/x-python",
   "name": "python",
   "nbconvert_exporter": "python",
   "pygments_lexer": "ipython3",
   "version": "3.10.9"
  }
 },
 "nbformat": 4,
 "nbformat_minor": 5
}

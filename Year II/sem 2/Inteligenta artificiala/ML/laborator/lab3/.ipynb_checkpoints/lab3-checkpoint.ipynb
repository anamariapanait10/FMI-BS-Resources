{
 "cells": [
  {
   "cell_type": "markdown",
   "id": "60209422",
   "metadata": {},
   "source": [
    "# Lab 3"
   ]
  },
  {
   "cell_type": "code",
   "execution_count": 10,
   "id": "58498b60",
   "metadata": {},
   "outputs": [],
   "source": [
    "import numpy as np\n",
    "import matplotlib.pyplot as plt"
   ]
  },
  {
   "cell_type": "code",
   "execution_count": 2,
   "id": "e6ad2cb8",
   "metadata": {},
   "outputs": [],
   "source": [
    "train_images = np.loadtxt('train_images.txt')\n",
    "train_labels = np.loadtxt('train_labels.txt').astype(np.int64)\n",
    "\n",
    "test_images = np.loadtxt('test_images.txt')\n",
    "test_labels = np.loadtxt('test_labels.txt').astype(np.int64)"
   ]
  },
  {
   "cell_type": "markdown",
   "id": "c5eb9cfa",
   "metadata": {},
   "source": [
    "## Ex1 & 2"
   ]
  },
  {
   "cell_type": "code",
   "execution_count": 27,
   "id": "addfa039",
   "metadata": {},
   "outputs": [],
   "source": [
    "class KnnClassifier:\n",
    "\n",
    "    def __init__(self, train_images, train_labels):\n",
    "        self.train_images = train_images\n",
    "        self.train_labels = train_labels\n",
    "    \n",
    "    def distance_l1(self, x, y):\n",
    "        return np.sum(np.abs(x - y), axis=1)\n",
    "    \n",
    "    def distance_l2(self, x, y):\n",
    "        return np.sqrt(np.sum((x - y) ** 2, axis=1))\n",
    "\n",
    "    def classify_image(self, test_image, num_neighbors = 3, metric = 'l2'):\n",
    "        if metric.lower() == 'l1':\n",
    "            distances = self.distance_l1(self.train_images, test_image)\n",
    "        elif metric.lower() == 'l2':\n",
    "            distances = self.distance_l2(self.train_images, test_image)\n",
    "        else:\n",
    "            raise Exception(\"Invalid metric. Must be 'l1' or 'l2'\")\n",
    "\n",
    "        sorted_indices = np.argsort(distances)\n",
    "        nearest_neighbors = sorted_indices[:num_neighbors]\n",
    "        nearest_labels = self.train_labels[nearest_neighbors]\n",
    "    \n",
    "        return np.bincount(nearest_labels).argmax()"
   ]
  },
  {
   "cell_type": "markdown",
   "id": "7ab78d99",
   "metadata": {},
   "source": [
    "## Ex3"
   ]
  },
  {
   "cell_type": "code",
   "execution_count": 29,
   "id": "2c5de1e1",
   "metadata": {},
   "outputs": [
    {
     "name": "stdout",
     "output_type": "stream",
     "text": [
      "Accuracy 89.8%\n"
     ]
    }
   ],
   "source": [
    "class KnnClassifier:\n",
    "\n",
    "    def __init__(self, train_images, train_labels):\n",
    "        self.train_images = train_images\n",
    "        self.train_labels = train_labels\n",
    "    \n",
    "    def distance_l1(self, x, y):\n",
    "        return np.sum(np.abs(x - y), axis=1)\n",
    "    \n",
    "    def distance_l2(self, x, y):\n",
    "        return np.sqrt(np.sum((x - y) ** 2, axis=1))\n",
    "\n",
    "    def classify_image(self, test_image, num_neighbors = 3, metric = 'l2'):\n",
    "        if metric.lower() == 'l1':\n",
    "            distances = self.distance_l1(self.train_images, test_image)\n",
    "        elif metric.lower() == 'l2':\n",
    "            distances = self.distance_l2(self.train_images, test_image)\n",
    "        else:\n",
    "            raise Exception(\"Invalid metric. Must be 'l1' or 'l2'\")\n",
    "\n",
    "        sorted_indices = np.argsort(distances)\n",
    "        nearest_neighbors = sorted_indices[:num_neighbors]\n",
    "        nearest_labels = self.train_labels[nearest_neighbors]\n",
    "    \n",
    "        return np.bincount(nearest_labels).argmax()\n",
    "        \n",
    "    def classify_images(self, test_images, num_neighbors = 3, metric = 'l2'):\n",
    "        return np.array([self.classify_image(img, 3) for img in test_images])\n",
    "\n",
    "    def accuracy_score(self, predicted_labels, test_labels):\n",
    "        return np.mean(predicted_labels == test_labels)\n",
    "    \n",
    "\n",
    "knn = KnnClassifier(train_images, train_labels)\n",
    "\n",
    "predicted_labels = knn.classify_images(test_images)\n",
    "np.savetxt(\"predictii_3nn_l2_mnist.txt\", predicted_labels)\n",
    "    \n",
    "accuracy = knn.accuracy_score(predicted_labels, test_labels)\n",
    "print(f\"Accuracy {accuracy * 100:.1f}%\")"
   ]
  },
  {
   "cell_type": "markdown",
   "id": "053cf7c3",
   "metadata": {},
   "source": [
    "## Ex4, a)"
   ]
  },
  {
   "cell_type": "code",
   "execution_count": null,
   "id": "2183a6ec",
   "metadata": {},
   "outputs": [],
   "source": [
    "class KnnClassifier:\n",
    "\n",
    "    def __init__(self, train_images, train_labels):\n",
    "        self.train_images = train_images\n",
    "        self.train_labels = train_labels\n",
    "    \n",
    "    def distance_l1(self, x, y):\n",
    "        return np.sum(np.abs(x - y), axis=1)\n",
    "    \n",
    "    def distance_l2(self, x, y):\n",
    "        return np.sqrt(np.sum((x - y) ** 2, axis=1))\n",
    "\n",
    "    def classify_image(self, test_image, num_neighbors = 3, metric = 'l2'):\n",
    "        if metric.lower() == 'l1':\n",
    "            distances = self.distance_l1(self.train_images, test_image)\n",
    "        elif metric.lower() == 'l2':\n",
    "            distances = self.distance_l2(self.train_images, test_image)\n",
    "        else:\n",
    "            raise Exception(\"Invalid metric. Must be 'l1' or 'l2'\")\n",
    "\n",
    "        sorted_indices = np.argsort(distances)\n",
    "        nearest_neighbors = sorted_indices[:num_neighbors]\n",
    "        nearest_labels = self.train_labels[nearest_neighbors]\n",
    "    \n",
    "        return np.bincount(nearest_labels).argmax()\n",
    "    \n",
    "    def classify_images(self, test_images, num_neighbors = 3, metric = 'l2'):\n",
    "        return np.array([self.classify_image(img, num_neighbors) for img in test_images])\n",
    "\n",
    "    def accuracy_score(self, predicted_labels, test_labels):\n",
    "        return np.mean(predicted_labels == test_labels)\n",
    "    \n",
    "\n",
    "knn = KnnClassifier(train_images, train_labels)\n",
    "\n",
    "x = np.array([1, 3, 5, 7, 9])\n",
    "y = []\n",
    "\n",
    "for num_neighbors in x:\n",
    "    predicted_labels = knn.classify_images(test_images, num_neighbors)\n",
    "    accuracy = knn.accuracy_score(predicted_labels, test_labels)\n",
    "    y.append(accuracy)\n",
    "\n",
    "f = open(\"acuratete_l2.txt\", \"w\")\n",
    "f.write(\",\".join([str(a) for a in y]))\n",
    "f.close()\n",
    "\n",
    "y = np.array(y)\n",
    "plt.plot(x, y)\n",
    "plt.xlabel('number of neighbors')\n",
    "plt.ylabel('accuracy')\n",
    "plt.show()"
   ]
  },
  {
   "cell_type": "markdown",
   "id": "0daab381",
   "metadata": {},
   "source": [
    "## Ex4, b) "
   ]
  },
  {
   "cell_type": "code",
   "execution_count": 22,
   "id": "2f498bbe",
   "metadata": {},
   "outputs": [
    {
     "data": {
      "image/png": "[encoded data removed]",
      "text/plain": [
       "<Figure size 640x480 with 1 Axes>"
      ]
     },
     "metadata": {},
     "output_type": "display_data"
    }
   ],
   "source": [
    "class KnnClassifier:\n",
    "\n",
    "    def __init__(self, train_images, train_labels):\n",
    "        self.train_images = train_images\n",
    "        self.train_labels = train_labels\n",
    "    \n",
    "    def distance_l1(self, x, y):\n",
    "        return np.sum(np.abs(x - y), axis=1)\n",
    "    \n",
    "    def distance_l2(self, x, y):\n",
    "        return np.sqrt(np.sum((x - y) ** 2, axis=1))\n",
    "\n",
    "    def classify_image(self, test_image, num_neighbors = 3, metric = 'l2'):\n",
    "        if metric.lower() == 'l1':\n",
    "            distances = self.distance_l1(self.train_images, test_image)\n",
    "        elif metric.lower() == 'l2':\n",
    "            distances = self.distance_l2(self.train_images, test_image)\n",
    "        else:\n",
    "            raise Exception(\"Invalid metric. Must be 'l1' or 'l2'\")\n",
    "\n",
    "        partial_sorted_indices = np.argpartition(distances, num_neighbors)\n",
    "        nearest_neighbors = partial_sorted_indices[:num_neighbors]\n",
    "        nearest_labels = self.train_labels[nearest_neighbors]\n",
    "    \n",
    "        unique_labels, freq = np.unique(nearest_labels, return_counts=True)\n",
    "        return unique_labels[np.argmax(freq)]\n",
    "        \n",
    "\n",
    "    def accuracy_score(self, predicted_labels, test_labels):\n",
    "        return np.mean(predicted_labels == test_labels)\n",
    "    \n",
    "\n",
    "knn = KnnClassifier(train_images, train_labels)\n",
    "\n",
    "x = np.array([1, 3, 5, 7, 9])\n",
    "y = []\n",
    "\n",
    "for num_neighbors in x:\n",
    "    predicted_labels = np.array([knn.classify_image(img, num_neighbors) for img in test_images])\n",
    "    accuracy = knn.accuracy_score(predicted_labels, test_labels)\n",
    "    y.append(accuracy)\n",
    "\n",
    "f = open(\"acuratete_l2.txt\", \"w\")\n",
    "f.write(\",\".join([str(a) for a in y]))\n",
    "f.close()\n",
    "\n",
    "y = np.array(y)\n",
    "plt.plot(x, y)\n",
    "plt.xlabel('number of neighbors')\n",
    "plt.ylabel('accuracy')\n",
    "plt.show()"
   ]
  },
  {
   "cell_type": "code",
   "execution_count": null,
   "id": "49bdb47c",
   "metadata": {},
   "outputs": [],
   "source": []
  },
  {
   "cell_type": "code",
   "execution_count": null,
   "id": "c8e98ce4",
   "metadata": {},
   "outputs": [],
   "source": []
  }
 ],
 "metadata": {
  "kernelspec": {
   "display_name": "Python 3 (ipykernel)",
   "language": "python",
   "name": "python3"
  },
  "language_info": {
   "codemirror_mode": {
    "name": "ipython",
    "version": 3
   },
   "file_extension": ".py",
   "mimetype": "text/x-python",
   "name": "python",
   "nbconvert_exporter": "python",
   "pygments_lexer": "ipython3",
   "version": "3.10.9"
  }
 },
 "nbformat": 4,
 "nbformat_minor": 5
}

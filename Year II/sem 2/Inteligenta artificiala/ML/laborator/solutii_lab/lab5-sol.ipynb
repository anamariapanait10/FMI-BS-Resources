{
 "cells": [
  {
   "cell_type": "code",
   "execution_count": 1,
   "metadata": {},
   "outputs": [],
   "source": [
    "import numpy as np \n",
    "\n",
    "from sklearn.preprocessing import StandardScaler, Normalizer\n",
    "from sklearn.utils import shuffle \n",
    "from sklearn.linear_model import LinearRegression, Ridge, Lasso\n",
    "from sklearn.metrics import mean_squared_error, mean_absolute_error\n",
    "from sklearn.model_selection import KFold"
   ]
  },
  {
   "cell_type": "code",
   "execution_count": 2,
   "metadata": {},
   "outputs": [
    {
     "name": "stdout",
     "output_type": "stream",
     "text": [
      "The first 4 samples are:\n",
      "  [[2.0150e+03 4.1000e+04 1.9670e+01 1.5820e+03 1.2620e+02 5.0000e+00\n",
      "  1.0000e+00 0.0000e+00 1.0000e+00 0.0000e+00 0.0000e+00 0.0000e+00\n",
      "  1.0000e+00 0.0000e+00]\n",
      " [2.0110e+03 4.6000e+04 1.8200e+01 1.1990e+03 8.8700e+01 5.0000e+00\n",
      "  1.0000e+00 0.0000e+00 0.0000e+00 1.0000e+00 0.0000e+00 0.0000e+00\n",
      "  1.0000e+00 0.0000e+00]\n",
      " [2.0120e+03 8.7000e+04 2.0770e+01 1.2480e+03 8.8760e+01 7.0000e+00\n",
      "  1.0000e+00 0.0000e+00 1.0000e+00 0.0000e+00 0.0000e+00 0.0000e+00\n",
      "  1.0000e+00 0.0000e+00]\n",
      " [2.0130e+03 8.6999e+04 2.3080e+01 1.4610e+03 6.3100e+01 5.0000e+00\n",
      "  1.0000e+00 0.0000e+00 1.0000e+00 0.0000e+00 0.0000e+00 0.0000e+00\n",
      "  1.0000e+00 0.0000e+00]]\n",
      "The first 4 prices are:\n",
      "  [12.5  4.5  6.   3.5]\n"
     ]
    }
   ],
   "source": [
    "# load training data\n",
    "training_data = np.load('data/training_data.npy') \n",
    "prices = np.load('data/prices.npy') \n",
    "\n",
    "# print the first 4 samples \n",
    "print('The first 4 samples are:\\n ', training_data[:4]) \n",
    "print('The first 4 prices are:\\n ', prices[:4]) \n",
    "\n",
    "# shuffle \n",
    "training_data, prices = shuffle(training_data, prices, random_state=0)"
   ]
  },
  {
   "cell_type": "code",
   "execution_count": 3,
   "metadata": {},
   "outputs": [],
   "source": [
    "# Exercitiul 1\n",
    "def normalize_data_v2(train_data, test_data, type=None):\n",
    "    if type=='standard':\n",
    "        scaler = StandardScaler()\n",
    "        scaler.fit(train_data)\n",
    "        train_data = scaler.transform(train_data)\n",
    "        test_data = scaler.transform(test_data)\n",
    "    elif type=='l2':\n",
    "        normalizer = Normalizer(norm='l2')\n",
    "        train_data = normalizer.transform(train_data)\n",
    "        test_data = normalizer.transform(test_data)\n",
    "    elif type =='l1':\n",
    "        normalizer = Normalizer(norm='l1')\n",
    "        train_data = normalizer.transform(train_data)\n",
    "        test_data = normalizer.transform(test_data)\n",
    "        \n",
    "    return train_data, test_data"
   ]
  },
  {
   "cell_type": "code",
   "execution_count": 4,
   "metadata": {},
   "outputs": [
    {
     "name": "stdout",
     "output_type": "stream",
     "text": [
      "Train Index:  [   0    1    2 ... 4873 4874 4876]\n",
      "Test Index:  [   6    8   12 ... 4875 4877 4878]\n",
      "Train Index:  [   2    3    4 ... 4875 4877 4878]\n",
      "Test Index:  [   0    1    7 ... 4869 4872 4876]\n",
      "Train Index:  [   0    1    6 ... 4876 4877 4878]\n",
      "Test Index:  [   2    3    4 ... 4871 4873 4874]\n",
      "Mean mse: 3.1631038\n",
      "Mean mae: 1.3170942\n"
     ]
    }
   ],
   "source": [
    "# Exercitiul 2\n",
    "cv = KFold(n_splits=3, random_state=42, shuffle=True)\n",
    "\n",
    "mse = []\n",
    "mae = []\n",
    "for train_index, test_index in cv.split(training_data):\n",
    "    print(\"Train Index: \", train_index)\n",
    "    print(\"Test Index: \", test_index)\n",
    "\n",
    "    X_train, X_test, y_train, y_test = training_data[train_index], training_data[test_index], prices[train_index], prices[test_index]\n",
    "    \n",
    "    X_train, X_test = normalize_data_v2(X_train,X_test, type='standard')\n",
    "    \n",
    "    linear_regression_model = LinearRegression()\n",
    "    linear_regression_model.fit(X_train, y_train)\n",
    "    output = linear_regression_model.predict(X_test)\n",
    "   \n",
    "    mse.append(mean_squared_error(y_test, output))\n",
    "    mae.append(mean_absolute_error(y_test, output))\n",
    "  \n",
    "print(\"Mean mse:\", np.mean(mse))\n",
    "print(\"Mean mae:\", np.mean(mae))"
   ]
  },
  {
   "cell_type": "code",
   "execution_count": 5,
   "metadata": {},
   "outputs": [
    {
     "name": "stdout",
     "output_type": "stream",
     "text": [
      "Train Index:  [   0    1    2 ... 4873 4874 4876]\n",
      "Test Index:  [   6    8   12 ... 4875 4877 4878]\n",
      "Train Index:  [   2    3    4 ... 4875 4877 4878]\n",
      "Test Index:  [   0    1    7 ... 4869 4872 4876]\n",
      "Train Index:  [   0    1    6 ... 4876 4877 4878]\n",
      "Test Index:  [   2    3    4 ... 4871 4873 4874]\n",
      "Alpha:1.0, Mean mse:3.1630916595458984\n",
      "Alpha:1.0, Mean mae:1.317070722579956\n",
      "\n",
      "Alpha:10.0, Mean mse:3.1630642414093018\n",
      "Alpha:10.0, Mean mae:1.3168717622756958\n",
      "\n",
      "Alpha:100.0, Mean mse:3.16888689994812\n",
      "Alpha:100.0, Mean mae:1.3163594007492065\n",
      "\n",
      "Alpha:1000.0, Mean mse:3.4315528869628906\n",
      "Alpha:1000.0, Mean mae:1.365923285484314\n",
      "\n"
     ]
    }
   ],
   "source": [
    "# Exercitiul 3\n",
    "cv = KFold(n_splits=3,random_state=42,shuffle=True)\n",
    "\n",
    "alphas = [1.,10.,100.,1000.]\n",
    "mse_dict = {}\n",
    "mae_dict = {}\n",
    "for train_index, test_index in cv.split(training_data):\n",
    "    print(\"Train Index: \", train_index)\n",
    "    print(\"Test Index: \", test_index)\n",
    "    \n",
    "    X_train, X_test, y_train, y_test = training_data[train_index], training_data[test_index], prices[train_index], prices[test_index]\n",
    "    X_train, X_test = normalize_data_v2(X_train,X_test, type='standard')\n",
    "      \n",
    "    for alpha in alphas:\n",
    "      linear_regression_model = Ridge(alpha=alpha)\n",
    "      linear_regression_model.fit(X_train, y_train)\n",
    "      output = linear_regression_model.predict(X_test)\n",
    "      \n",
    "      if alpha not in mse_dict:\n",
    "        mse_dict[alpha] = [mean_squared_error(y_test, output)]\n",
    "      else:\n",
    "        mse_dict[alpha].append(mean_squared_error(y_test, output))\n",
    "\n",
    "      if alpha not in mae_dict:\n",
    "        mae_dict[alpha] = [mean_absolute_error(y_test, output)]\n",
    "      else:\n",
    "        mae_dict[alpha].append(mean_absolute_error(y_test, output))\n",
    "      \n",
    "      \n",
    "for alpha in alphas:\n",
    "  print(f\"Alpha:{alpha}, Mean mse:{np.mean(mse_dict[alpha])}\")\n",
    "  print(f\"Alpha:{alpha}, Mean mae:{np.mean(mae_dict[alpha])}\\n\")\n",
    "    "
   ]
  },
  {
   "cell_type": "code",
   "execution_count": null,
   "metadata": {},
   "outputs": [],
   "source": [
    "# Exercitiul 4\n",
    "linear_regression_model = Ridge(alpha=10)\n",
    "X_train, _ = normalize_data_v2(training_data,training_data, type='standard')\n",
    "linear_regression_model.fit(X_train, prices)\n",
    "\n",
    "print(linear_regression_model.coef_)\n",
    "print()\n",
    "print(linear_regression_model.intercept_)\n",
    "print()"
   ]
  }
 ],
 "metadata": {
  "kernelspec": {
   "display_name": "Python 3",
   "language": "python",
   "name": "python3"
  },
  "language_info": {
   "codemirror_mode": {
    "name": "ipython",
    "version": 3
   },
   "file_extension": ".py",
   "mimetype": "text/x-python",
   "name": "python",
   "nbconvert_exporter": "python",
   "pygments_lexer": "ipython3",
   "version": "3.9.9"
  },
  "orig_nbformat": 4
 },
 "nbformat": 4,
 "nbformat_minor": 2
}

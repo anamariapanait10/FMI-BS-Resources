{
 "cells": [
  {
   "cell_type": "markdown",
   "id": "1c0116ac",
   "metadata": {},
   "source": [
    "# Lab 5. Regresia Liniara. Regresia Ridge"
   ]
  },
  {
   "cell_type": "code",
   "execution_count": 1,
   "id": "fcf3463f",
   "metadata": {},
   "outputs": [],
   "source": [
    "import numpy as np\n",
    "from sklearn.preprocessing import MinMaxScaler\n",
    "from sklearn.utils import shuffle\n",
    "from sklearn.linear_model import LinearRegression, Ridge, Lasso\n",
    "from sklearn.metrics import mean_squared_error, mean_absolute_error"
   ]
  },
  {
   "cell_type": "code",
   "execution_count": 2,
   "id": "a095cd5b",
   "metadata": {},
   "outputs": [],
   "source": [
    "training_data = np.load(\"data/training_data.npy\")\n",
    "prices = np.load(\"data/prices.npy\")"
   ]
  },
  {
   "cell_type": "code",
   "execution_count": 6,
   "id": "bb2ad474",
   "metadata": {},
   "outputs": [
    {
     "name": "stdout",
     "output_type": "stream",
     "text": [
      "The first 4 samples are:\n",
      "  [[2.0150e+03 4.1000e+04 1.9670e+01 1.5820e+03 1.2620e+02 5.0000e+00\n",
      "  1.0000e+00 0.0000e+00 1.0000e+00 0.0000e+00 0.0000e+00 0.0000e+00\n",
      "  1.0000e+00 0.0000e+00]\n",
      " [2.0110e+03 4.6000e+04 1.8200e+01 1.1990e+03 8.8700e+01 5.0000e+00\n",
      "  1.0000e+00 0.0000e+00 0.0000e+00 1.0000e+00 0.0000e+00 0.0000e+00\n",
      "  1.0000e+00 0.0000e+00]\n",
      " [2.0120e+03 8.7000e+04 2.0770e+01 1.2480e+03 8.8760e+01 7.0000e+00\n",
      "  1.0000e+00 0.0000e+00 1.0000e+00 0.0000e+00 0.0000e+00 0.0000e+00\n",
      "  1.0000e+00 0.0000e+00]\n",
      " [2.0130e+03 8.6999e+04 2.3080e+01 1.4610e+03 6.3100e+01 5.0000e+00\n",
      "  1.0000e+00 0.0000e+00 1.0000e+00 0.0000e+00 0.0000e+00 0.0000e+00\n",
      "  1.0000e+00 0.0000e+00]]\n",
      "The first 4 prices are:\n",
      "  [12.5  4.5  6.   3.5]\n"
     ]
    }
   ],
   "source": [
    "print('The first 4 samples are:\\n ', training_data[:4]) \n",
    "print('The first 4 prices are:\\n ', prices[:4])\n",
    "\n",
    "training_data, prices = shuffle(training_data, prices, random_state=0)"
   ]
  },
  {
   "cell_type": "markdown",
   "id": "93e5e767",
   "metadata": {},
   "source": [
    "## Ex1"
   ]
  },
  {
   "cell_type": "code",
   "execution_count": 22,
   "id": "b9f0aa7f",
   "metadata": {},
   "outputs": [],
   "source": [
    "def normalize(train_data, test_data):\n",
    "    scaler = MinMaxScaler()\n",
    "    scaler.fit(train_data)\n",
    "    scaled_train_data = scaler.transform(train_data)\n",
    "    scaled_test_data = scaler.transform(test_data)\n",
    "    \n",
    "    return scaled_train_data, scaled_test_data"
   ]
  },
  {
   "cell_type": "markdown",
   "id": "94bbfdee",
   "metadata": {},
   "source": [
    "## Ex2 "
   ]
  },
  {
   "cell_type": "code",
   "execution_count": 26,
   "id": "78c0fd8a",
   "metadata": {},
   "outputs": [
    {
     "name": "stdout",
     "output_type": "stream",
     "text": [
      "(1626, 14) (1626, 14) (1627, 14)\n",
      "1.3206663926442463 3.1695082982381186\n"
     ]
    }
   ],
   "source": [
    "num_folds = 3\n",
    "num_examples_in_a_fold = len(prices) // 3\n",
    "\n",
    "train_set_1, labels_1 = training_data[:num_examples_in_a_fold], prices[:num_examples_in_a_fold]\n",
    "train_set_2, labels_2 = training_data[num_examples_in_a_fold:2*num_examples_in_a_fold], prices[num_examples_in_a_fold:2*num_examples_in_a_fold]\n",
    "train_set_3, labels_3 = training_data[num_examples_in_a_fold*2:], prices[num_examples_in_a_fold*2:]\n",
    "\n",
    "print(train_set_1.shape, train_set_2.shape, train_set_3.shape)\n",
    "\n",
    "def normalize_and_calculate_means(model, train_data, train_labels, test_data, test_labels):\n",
    "    scaled_train_data, scaled_test_data = normalize(train_data, test_data)\n",
    "    model.fit(scaled_train_data, train_labels)\n",
    "    predicted_prices = model.predict(scaled_test_data)\n",
    "    return mean_squared_error(test_labels, predicted_prices), mean_absolute_error(test_labels, predicted_prices)\n",
    "\n",
    "linear_model = LinearRegression()\n",
    "mse_1, mae_1 = normalize_and_calculate_means(linear_model, train_data=np.concatenate((train_set_1, train_set_2)), train_labels=np.concatenate((labels_1, labels_2)), test_data=train_set_3, test_labels=labels_3)\n",
    "\n",
    "                                        \n",
    "linear_model = LinearRegression()\n",
    "mse_2, mae_2 = normalize_and_calculate_means(linear_model, train_data=np.concatenate((train_set_1, train_set_3)), train_labels=np.concatenate((labels_1, labels_3)), test_data=train_set_2, test_labels=labels_2)\n",
    "\n",
    "linear_model = LinearRegression()\n",
    "mse_3, mae_3 = normalize_and_calculate_means(linear_model, train_data=np.concatenate((train_set_2, train_set_3)), train_labels=np.concatenate((labels_2, labels_3)), test_data=train_set_1, test_labels=labels_1)\n",
    "                                        \n",
    "mse = (mse_1 + mse_2 + mse_3) / 3\n",
    "mae = (mae_1 + mae_2 + mae_3) / 3\n",
    "print(mae, mse)"
   ]
  },
  {
   "cell_type": "markdown",
   "id": "397a1ddb",
   "metadata": {},
   "source": [
    "## Ex3"
   ]
  },
  {
   "cell_type": "code",
   "execution_count": 31,
   "id": "3cdda5a7",
   "metadata": {},
   "outputs": [
    {
     "name": "stdout",
     "output_type": "stream",
     "text": [
      "Best performance is mse = 3.175600051879883 for alpha = 1000 and mae = 1.3232592741648357 for alpha = 1000\n"
     ]
    }
   ],
   "source": [
    "num_folds = 3\n",
    "num_examples_in_a_fold = len(prices) // 3\n",
    "\n",
    "train_set_1, labels_1 = training_data[:num_examples_in_a_fold], prices[:num_examples_in_a_fold]\n",
    "train_set_2, labels_2 = training_data[num_examples_in_a_fold:2*num_examples_in_a_fold], prices[num_examples_in_a_fold:2*num_examples_in_a_fold]\n",
    "train_set_3, labels_3 = training_data[num_examples_in_a_fold*2:], prices[num_examples_in_a_fold*2:]\n",
    "\n",
    "def normalize_and_calculate_means(model, train_data, train_labels, test_data, test_labels):\n",
    "    scaled_train_data, scaled_test_data = normalize(train_data, test_data)\n",
    "    model.fit(scaled_train_data, train_labels)\n",
    "    predicted_prices = model.predict(scaled_test_data)\n",
    "    return mean_squared_error(test_labels, predicted_prices), mean_absolute_error(test_labels, predicted_prices)\n",
    "\n",
    "best_mse = float('inf')\n",
    "mse_alpha = None\n",
    "best_mae = float('inf')\n",
    "mae_alpha = None\n",
    "for _alpha in [1, 10, 100, 1000]:\n",
    "    ridge_model = Ridge(alpha=_alpha)\n",
    "    mse_1, mae_1 = normalize_and_calculate_means(ridge_model, train_data=np.concatenate((train_set_1, train_set_2)), train_labels=np.concatenate((labels_1, labels_2)), test_data=train_set_3, test_labels=labels_3)\n",
    "\n",
    "    ridge_model = Ridge(alpha=_alpha)\n",
    "    mse_2, mae_2 = normalize_and_calculate_means(ridge_model, train_data=np.concatenate((train_set_1, train_set_3)), train_labels=np.concatenate((labels_1, labels_3)), test_data=train_set_2, test_labels=labels_2)\n",
    "\n",
    "    ridge_model = Ridge(alpha=_alpha)\n",
    "    mse_3, mae_3 = normalize_and_calculate_means(ridge_model, train_data=np.concatenate((train_set_2, train_set_3)), train_labels=np.concatenate((labels_2, labels_3)), test_data=train_set_1, test_labels=labels_1)\n",
    "    \n",
    "    mse = (mse_1 + mse_2 + mse_3) / 3\n",
    "    mae = (mae_1 + mae_2 + mae_3) / 3\n",
    "\n",
    "    if mae < best_mae:\n",
    "        best_mae = mae\n",
    "        mae_alpha = _alpha\n",
    "    \n",
    "    if mse < best_mse:\n",
    "        best_mse = mse\n",
    "        mse_alpha = _alpha\n",
    "#     print(mse, mae)\n",
    "\n",
    "print(f\"Best performance is mse = {best_mse} for alpha = {_alpha} and mae = {best_mae} for alpha = {_alpha}\")"
   ]
  },
  {
   "cell_type": "markdown",
   "id": "d2fab9aa",
   "metadata": {},
   "source": [
    "## Ex4"
   ]
  },
  {
   "cell_type": "code",
   "execution_count": 38,
   "id": "b0f80d4d",
   "metadata": {},
   "outputs": [
    {
     "name": "stdout",
     "output_type": "stream",
     "text": [
      "7.3594165 2.1241698\n",
      "Coeficienti: [ 0.8771372  -0.10242436 -0.3947227   0.6359898   0.5214015   0.37431103\n",
      " -0.3227706   0.          0.77022964 -0.7702295   0.          0.\n",
      " -0.9397609   0.93976045]\n",
      "Bias: 5.7183204\n",
      "Cel mai semnificativ atribut: [2.015e+03 6.700e+04 2.730e+01 1.498e+03 9.860e+01 5.000e+00 1.000e+00\n",
      " 0.000e+00 1.000e+00 0.000e+00 0.000e+00 0.000e+00 1.000e+00 0.000e+00]\n",
      "Al doilea cel mai semnificativ atribut: [2.0170e+03 1.8351e+04 2.1900e+01 6.2400e+02 3.7480e+01 4.0000e+00\n",
      " 1.0000e+00 0.0000e+00 0.0000e+00 1.0000e+00 0.0000e+00 0.0000e+00\n",
      " 0.0000e+00 1.0000e+00]\n",
      "Cel mai puțin semnificativ atribut: [2.015e+03 6.100e+04 1.540e+01 2.179e+03 1.200e+02 8.000e+00 1.000e+00\n",
      " 0.000e+00 1.000e+00 0.000e+00 0.000e+00 0.000e+00 1.000e+00 0.000e+00]\n"
     ]
    }
   ],
   "source": [
    "best_alpha = 1000\n",
    "ridge_model = Ridge(alpha=best_alpha)\n",
    "\n",
    "mse, mae = normalize_and_calculate_means(ridge_model, train_data=training_data, train_labels=prices, test_data=training_data, test_labels=prices)\n",
    "print(mse, mae)\n",
    "\n",
    "print(\"Coeficienti:\", ridge_model.coef_)\n",
    "print(\"Bias:\", ridge_model.intercept_)\n",
    "\n",
    "coeficients = list(zip(training_data, ridge_model.coef_))\n",
    "sorted_coeficients = sorted(coeficients, key=lambda x: x[1], reverse=True)\n",
    "\n",
    "print(\"Cel mai semnificativ atribut:\", sorted_coeficients[0][0])\n",
    "print(\"Al doilea cel mai semnificativ atribut:\", sorted_coeficients[1][0])\n",
    "print(\"Cel mai puțin semnificativ atribut:\", sorted_coeficients[-1][0])"
   ]
  },
  {
   "cell_type": "code",
   "execution_count": null,
   "id": "b86c264c",
   "metadata": {},
   "outputs": [],
   "source": []
  }
 ],
 "metadata": {
  "kernelspec": {
   "display_name": "Python 3 (ipykernel)",
   "language": "python",
   "name": "python3"
  },
  "language_info": {
   "codemirror_mode": {
    "name": "ipython",
    "version": 3
   },
   "file_extension": ".py",
   "mimetype": "text/x-python",
   "name": "python",
   "nbconvert_exporter": "python",
   "pygments_lexer": "ipython3",
   "version": "3.10.9"
  }
 },
 "nbformat": 4,
 "nbformat_minor": 5
}
